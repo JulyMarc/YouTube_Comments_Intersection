{
  "nbformat": 4,
  "nbformat_minor": 0,
  "metadata": {
    "colab": {
      "provenance": [],
      "toc_visible": true,
      "mount_file_id": "1_xVBbrjxUbUSR5VCmOw0dbHx5DVO-dNJ",
      "authorship_tag": "ABX9TyOf/HtMETerjJLMEn8WkzUc",
      "include_colab_link": true
    },
    "kernelspec": {
      "name": "python3",
      "display_name": "Python 3"
    },
    "language_info": {
      "name": "python"
    }
  },
  "cells": [
    {
      "cell_type": "markdown",
      "metadata": {
        "id": "view-in-github",
        "colab_type": "text"
      },
      "source": [
        "<a href=\"https://colab.research.google.com/github/JulyMarc/YouTube_Comments_Intersection/blob/main/YouTube_Comments_Intersection.ipynb\" target=\"_parent\"><img src=\"https://colab.research.google.com/assets/colab-badge.svg\" alt=\"Open In Colab\"/></a>"
      ]
    },
    {
      "cell_type": "markdown",
      "source": [
        "# Libs and etc"
      ],
      "metadata": {
        "id": "nNzDMZwAAkXp"
      }
    },
    {
      "cell_type": "code",
      "source": [
        "pip install youtube_comment_downloader"
      ],
      "metadata": {
        "id": "OW0fVg_VAV0e"
      },
      "execution_count": null,
      "outputs": []
    },
    {
      "cell_type": "code",
      "source": [
        "import requests\n",
        "import re\n",
        "from bs4 import BeautifulSoup\n",
        "import pandas as pd\n",
        "from tqdm import tqdm"
      ],
      "metadata": {
        "id": "Qm1_7nfE30ru"
      },
      "execution_count": 2,
      "outputs": []
    },
    {
      "cell_type": "code",
      "source": [
        "from itertools import islice\n",
        "from youtube_comment_downloader import *"
      ],
      "metadata": {
        "id": "wMMU5zN3AdFI"
      },
      "execution_count": 3,
      "outputs": []
    },
    {
      "cell_type": "code",
      "source": [
        "from google.colab import drive\n",
        "drive.mount('/content/drive')"
      ],
      "metadata": {
        "colab": {
          "base_uri": "https://localhost:8080/"
        },
        "id": "0EeauS7YGlvY",
        "outputId": "989f81ae-d773-41ae-944a-94d139808939"
      },
      "execution_count": 4,
      "outputs": [
        {
          "output_type": "stream",
          "name": "stdout",
          "text": [
            "Drive already mounted at /content/drive; to attempt to forcibly remount, call drive.mount(\"/content/drive\", force_remount=True).\n"
          ]
        }
      ]
    },
    {
      "cell_type": "markdown",
      "source": [
        "# Video links parsing"
      ],
      "metadata": {
        "id": "PTUua6KuAm8V"
      }
    },
    {
      "cell_type": "code",
      "source": [
        "# List of interested authors\n",
        "authors = ['Max_Katz', 'khodorkovskyru','sobchak',\n",
        "           'zhivoygvozd','Vladimir_Milov','yashin_russia', 'vdud']"
      ],
      "metadata": {
        "id": "G8qhAapx1eLD"
      },
      "execution_count": 5,
      "outputs": []
    },
    {
      "cell_type": "code",
      "source": [
        "# Parsing last video links on each author\n",
        "\n",
        "l_links_on_video = []\n",
        "for i in tqdm(authors):\n",
        "  url = 'https://www.youtube.com/@' + i + '/videos'\n",
        "  response = requests.get(url)\n",
        "  html_content = response.content\n",
        "  soup = BeautifulSoup(html_content, 'html.parser')\n",
        "  scripts = soup.find_all('script')\n",
        "\n",
        "  for script in scripts:\n",
        "      if 'ytInitialData' in str(script):\n",
        "          pattern = re.compile(r'\"videoId\":\"(\\w+)\"')\n",
        "          matches = re.findall(pattern, str(script))\n",
        "          for match in matches:\n",
        "            l_links_on_video.append([i,match])"
      ],
      "metadata": {
        "colab": {
          "base_uri": "https://localhost:8080/"
        },
        "id": "3zQzfSOu-5zh",
        "outputId": "7e4a7c81-0a1a-4b1e-b568-e1633705ec97"
      },
      "execution_count": 6,
      "outputs": [
        {
          "output_type": "stream",
          "name": "stderr",
          "text": [
            "100%|██████████| 7/7 [00:34<00:00,  4.91s/it]\n"
          ]
        }
      ]
    },
    {
      "cell_type": "code",
      "source": [
        "df_links = pd.DataFrame(l_links_on_video).drop_duplicates()\n",
        "df_links.reset_index(inplace = True)\n",
        "df_links.drop('index', axis = 1, inplace = True)\n",
        "df_links.columns = ['author','link']\n",
        "df_links.shape"
      ],
      "metadata": {
        "colab": {
          "base_uri": "https://localhost:8080/"
        },
        "id": "h6wnr46L3hgP",
        "outputId": "8418c3e2-2952-4e5b-f540-8ee75ff54b52"
      },
      "execution_count": 7,
      "outputs": [
        {
          "output_type": "execute_result",
          "data": {
            "text/plain": [
              "(177, 2)"
            ]
          },
          "metadata": {},
          "execution_count": 7
        }
      ]
    },
    {
      "cell_type": "code",
      "source": [
        "df_links.head()"
      ],
      "metadata": {
        "colab": {
          "base_uri": "https://localhost:8080/",
          "height": 206
        },
        "id": "5wC_Z5khAT5Q",
        "outputId": "bea8f2a4-2176-4636-ca83-f3fcddafb794"
      },
      "execution_count": 8,
      "outputs": [
        {
          "output_type": "execute_result",
          "data": {
            "text/plain": [
              "     author         link\n",
              "0  Max_Katz  mkQxtD7T6Bo\n",
              "1  Max_Katz  hyHpp9dVMQU\n",
              "2  Max_Katz  gwrXzeKJpOM\n",
              "3  Max_Katz  cDQDq_Ht9iY\n",
              "4  Max_Katz  v822bgIIkdk"
            ],
            "text/html": [
              "\n",
              "  <div id=\"df-2a4a956d-ef43-4423-bcdd-0ded50948d7a\">\n",
              "    <div class=\"colab-df-container\">\n",
              "      <div>\n",
              "<style scoped>\n",
              "    .dataframe tbody tr th:only-of-type {\n",
              "        vertical-align: middle;\n",
              "    }\n",
              "\n",
              "    .dataframe tbody tr th {\n",
              "        vertical-align: top;\n",
              "    }\n",
              "\n",
              "    .dataframe thead th {\n",
              "        text-align: right;\n",
              "    }\n",
              "</style>\n",
              "<table border=\"1\" class=\"dataframe\">\n",
              "  <thead>\n",
              "    <tr style=\"text-align: right;\">\n",
              "      <th></th>\n",
              "      <th>author</th>\n",
              "      <th>link</th>\n",
              "    </tr>\n",
              "  </thead>\n",
              "  <tbody>\n",
              "    <tr>\n",
              "      <th>0</th>\n",
              "      <td>Max_Katz</td>\n",
              "      <td>mkQxtD7T6Bo</td>\n",
              "    </tr>\n",
              "    <tr>\n",
              "      <th>1</th>\n",
              "      <td>Max_Katz</td>\n",
              "      <td>hyHpp9dVMQU</td>\n",
              "    </tr>\n",
              "    <tr>\n",
              "      <th>2</th>\n",
              "      <td>Max_Katz</td>\n",
              "      <td>gwrXzeKJpOM</td>\n",
              "    </tr>\n",
              "    <tr>\n",
              "      <th>3</th>\n",
              "      <td>Max_Katz</td>\n",
              "      <td>cDQDq_Ht9iY</td>\n",
              "    </tr>\n",
              "    <tr>\n",
              "      <th>4</th>\n",
              "      <td>Max_Katz</td>\n",
              "      <td>v822bgIIkdk</td>\n",
              "    </tr>\n",
              "  </tbody>\n",
              "</table>\n",
              "</div>\n",
              "      <button class=\"colab-df-convert\" onclick=\"convertToInteractive('df-2a4a956d-ef43-4423-bcdd-0ded50948d7a')\"\n",
              "              title=\"Convert this dataframe to an interactive table.\"\n",
              "              style=\"display:none;\">\n",
              "        \n",
              "  <svg xmlns=\"http://www.w3.org/2000/svg\" height=\"24px\"viewBox=\"0 0 24 24\"\n",
              "       width=\"24px\">\n",
              "    <path d=\"M0 0h24v24H0V0z\" fill=\"none\"/>\n",
              "    <path d=\"M18.56 5.44l.94 2.06.94-2.06 2.06-.94-2.06-.94-.94-2.06-.94 2.06-2.06.94zm-11 1L8.5 8.5l.94-2.06 2.06-.94-2.06-.94L8.5 2.5l-.94 2.06-2.06.94zm10 10l.94 2.06.94-2.06 2.06-.94-2.06-.94-.94-2.06-.94 2.06-2.06.94z\"/><path d=\"M17.41 7.96l-1.37-1.37c-.4-.4-.92-.59-1.43-.59-.52 0-1.04.2-1.43.59L10.3 9.45l-7.72 7.72c-.78.78-.78 2.05 0 2.83L4 21.41c.39.39.9.59 1.41.59.51 0 1.02-.2 1.41-.59l7.78-7.78 2.81-2.81c.8-.78.8-2.07 0-2.86zM5.41 20L4 18.59l7.72-7.72 1.47 1.35L5.41 20z\"/>\n",
              "  </svg>\n",
              "      </button>\n",
              "      \n",
              "  <style>\n",
              "    .colab-df-container {\n",
              "      display:flex;\n",
              "      flex-wrap:wrap;\n",
              "      gap: 12px;\n",
              "    }\n",
              "\n",
              "    .colab-df-convert {\n",
              "      background-color: #E8F0FE;\n",
              "      border: none;\n",
              "      border-radius: 50%;\n",
              "      cursor: pointer;\n",
              "      display: none;\n",
              "      fill: #1967D2;\n",
              "      height: 32px;\n",
              "      padding: 0 0 0 0;\n",
              "      width: 32px;\n",
              "    }\n",
              "\n",
              "    .colab-df-convert:hover {\n",
              "      background-color: #E2EBFA;\n",
              "      box-shadow: 0px 1px 2px rgba(60, 64, 67, 0.3), 0px 1px 3px 1px rgba(60, 64, 67, 0.15);\n",
              "      fill: #174EA6;\n",
              "    }\n",
              "\n",
              "    [theme=dark] .colab-df-convert {\n",
              "      background-color: #3B4455;\n",
              "      fill: #D2E3FC;\n",
              "    }\n",
              "\n",
              "    [theme=dark] .colab-df-convert:hover {\n",
              "      background-color: #434B5C;\n",
              "      box-shadow: 0px 1px 3px 1px rgba(0, 0, 0, 0.15);\n",
              "      filter: drop-shadow(0px 1px 2px rgba(0, 0, 0, 0.3));\n",
              "      fill: #FFFFFF;\n",
              "    }\n",
              "  </style>\n",
              "\n",
              "      <script>\n",
              "        const buttonEl =\n",
              "          document.querySelector('#df-2a4a956d-ef43-4423-bcdd-0ded50948d7a button.colab-df-convert');\n",
              "        buttonEl.style.display =\n",
              "          google.colab.kernel.accessAllowed ? 'block' : 'none';\n",
              "\n",
              "        async function convertToInteractive(key) {\n",
              "          const element = document.querySelector('#df-2a4a956d-ef43-4423-bcdd-0ded50948d7a');\n",
              "          const dataTable =\n",
              "            await google.colab.kernel.invokeFunction('convertToInteractive',\n",
              "                                                     [key], {});\n",
              "          if (!dataTable) return;\n",
              "\n",
              "          const docLinkHtml = 'Like what you see? Visit the ' +\n",
              "            '<a target=\"_blank\" href=https://colab.research.google.com/notebooks/data_table.ipynb>data table notebook</a>'\n",
              "            + ' to learn more about interactive tables.';\n",
              "          element.innerHTML = '';\n",
              "          dataTable['output_type'] = 'display_data';\n",
              "          await google.colab.output.renderOutput(dataTable, element);\n",
              "          const docLink = document.createElement('div');\n",
              "          docLink.innerHTML = docLinkHtml;\n",
              "          element.appendChild(docLink);\n",
              "        }\n",
              "      </script>\n",
              "    </div>\n",
              "  </div>\n",
              "  "
            ]
          },
          "metadata": {},
          "execution_count": 8
        }
      ]
    },
    {
      "cell_type": "markdown",
      "source": [
        "# Getting comment count"
      ],
      "metadata": {
        "id": "nFldvJ1RLOdb"
      }
    },
    {
      "cell_type": "code",
      "source": [
        "# Counting of comments on each video to estimate mean amount of downloading comments\n",
        "l_comments_counts = []\n",
        "for i in tqdm(df_links['link']):\n",
        "  url = 'https://www.youtube.com/watch?v=' + i\n",
        "  response = requests.get(url)\n",
        "  html_content = response.content\n",
        "  pos = str(html_content).find('commentCount')\n",
        "  cnt = str(html_content)[pos:pos+50]\n",
        "  l_comments_counts.append([i,cnt])"
      ],
      "metadata": {
        "colab": {
          "base_uri": "https://localhost:8080/"
        },
        "id": "IX5TLLmDE9VD",
        "outputId": "7ab204d1-d5ee-4fcb-bd41-34f27618f441"
      },
      "execution_count": 9,
      "outputs": [
        {
          "output_type": "stream",
          "name": "stderr",
          "text": [
            "100%|██████████| 177/177 [02:00<00:00,  1.46it/s]\n"
          ]
        }
      ]
    },
    {
      "cell_type": "code",
      "source": [
        "df_links['count'] = pd.DataFrame(l_comments_counts)[1].str.split('\"', expand = True)[4].str[:-1].astype(float)"
      ],
      "metadata": {
        "id": "7tDG6eGrFoqm"
      },
      "execution_count": 10,
      "outputs": []
    },
    {
      "cell_type": "code",
      "source": [
        "df_links.groupby('author')['count'].agg(['mean','median','max']).round(0).astype(int)"
      ],
      "metadata": {
        "colab": {
          "base_uri": "https://localhost:8080/",
          "height": 300
        },
        "id": "5Y8ZUNfVDEqQ",
        "outputId": "2cbadad8-dc9b-4107-81b5-44457e159cdb"
      },
      "execution_count": 11,
      "outputs": [
        {
          "output_type": "execute_result",
          "data": {
            "text/plain": [
              "                mean  median  max\n",
              "author                           \n",
              "Max_Katz           5       5    9\n",
              "Vladimir_Milov    18       3   92\n",
              "khodorkovskyru     4       4    8\n",
              "sobchak            5       2   25\n",
              "vdud              55      38  394\n",
              "yashin_russia     10       9   37\n",
              "zhivoygvozd       21      16   74"
            ],
            "text/html": [
              "\n",
              "  <div id=\"df-4e024b61-f6c1-4997-85a3-c489cd8fbf71\">\n",
              "    <div class=\"colab-df-container\">\n",
              "      <div>\n",
              "<style scoped>\n",
              "    .dataframe tbody tr th:only-of-type {\n",
              "        vertical-align: middle;\n",
              "    }\n",
              "\n",
              "    .dataframe tbody tr th {\n",
              "        vertical-align: top;\n",
              "    }\n",
              "\n",
              "    .dataframe thead th {\n",
              "        text-align: right;\n",
              "    }\n",
              "</style>\n",
              "<table border=\"1\" class=\"dataframe\">\n",
              "  <thead>\n",
              "    <tr style=\"text-align: right;\">\n",
              "      <th></th>\n",
              "      <th>mean</th>\n",
              "      <th>median</th>\n",
              "      <th>max</th>\n",
              "    </tr>\n",
              "    <tr>\n",
              "      <th>author</th>\n",
              "      <th></th>\n",
              "      <th></th>\n",
              "      <th></th>\n",
              "    </tr>\n",
              "  </thead>\n",
              "  <tbody>\n",
              "    <tr>\n",
              "      <th>Max_Katz</th>\n",
              "      <td>5</td>\n",
              "      <td>5</td>\n",
              "      <td>9</td>\n",
              "    </tr>\n",
              "    <tr>\n",
              "      <th>Vladimir_Milov</th>\n",
              "      <td>18</td>\n",
              "      <td>3</td>\n",
              "      <td>92</td>\n",
              "    </tr>\n",
              "    <tr>\n",
              "      <th>khodorkovskyru</th>\n",
              "      <td>4</td>\n",
              "      <td>4</td>\n",
              "      <td>8</td>\n",
              "    </tr>\n",
              "    <tr>\n",
              "      <th>sobchak</th>\n",
              "      <td>5</td>\n",
              "      <td>2</td>\n",
              "      <td>25</td>\n",
              "    </tr>\n",
              "    <tr>\n",
              "      <th>vdud</th>\n",
              "      <td>55</td>\n",
              "      <td>38</td>\n",
              "      <td>394</td>\n",
              "    </tr>\n",
              "    <tr>\n",
              "      <th>yashin_russia</th>\n",
              "      <td>10</td>\n",
              "      <td>9</td>\n",
              "      <td>37</td>\n",
              "    </tr>\n",
              "    <tr>\n",
              "      <th>zhivoygvozd</th>\n",
              "      <td>21</td>\n",
              "      <td>16</td>\n",
              "      <td>74</td>\n",
              "    </tr>\n",
              "  </tbody>\n",
              "</table>\n",
              "</div>\n",
              "      <button class=\"colab-df-convert\" onclick=\"convertToInteractive('df-4e024b61-f6c1-4997-85a3-c489cd8fbf71')\"\n",
              "              title=\"Convert this dataframe to an interactive table.\"\n",
              "              style=\"display:none;\">\n",
              "        \n",
              "  <svg xmlns=\"http://www.w3.org/2000/svg\" height=\"24px\"viewBox=\"0 0 24 24\"\n",
              "       width=\"24px\">\n",
              "    <path d=\"M0 0h24v24H0V0z\" fill=\"none\"/>\n",
              "    <path d=\"M18.56 5.44l.94 2.06.94-2.06 2.06-.94-2.06-.94-.94-2.06-.94 2.06-2.06.94zm-11 1L8.5 8.5l.94-2.06 2.06-.94-2.06-.94L8.5 2.5l-.94 2.06-2.06.94zm10 10l.94 2.06.94-2.06 2.06-.94-2.06-.94-.94-2.06-.94 2.06-2.06.94z\"/><path d=\"M17.41 7.96l-1.37-1.37c-.4-.4-.92-.59-1.43-.59-.52 0-1.04.2-1.43.59L10.3 9.45l-7.72 7.72c-.78.78-.78 2.05 0 2.83L4 21.41c.39.39.9.59 1.41.59.51 0 1.02-.2 1.41-.59l7.78-7.78 2.81-2.81c.8-.78.8-2.07 0-2.86zM5.41 20L4 18.59l7.72-7.72 1.47 1.35L5.41 20z\"/>\n",
              "  </svg>\n",
              "      </button>\n",
              "      \n",
              "  <style>\n",
              "    .colab-df-container {\n",
              "      display:flex;\n",
              "      flex-wrap:wrap;\n",
              "      gap: 12px;\n",
              "    }\n",
              "\n",
              "    .colab-df-convert {\n",
              "      background-color: #E8F0FE;\n",
              "      border: none;\n",
              "      border-radius: 50%;\n",
              "      cursor: pointer;\n",
              "      display: none;\n",
              "      fill: #1967D2;\n",
              "      height: 32px;\n",
              "      padding: 0 0 0 0;\n",
              "      width: 32px;\n",
              "    }\n",
              "\n",
              "    .colab-df-convert:hover {\n",
              "      background-color: #E2EBFA;\n",
              "      box-shadow: 0px 1px 2px rgba(60, 64, 67, 0.3), 0px 1px 3px 1px rgba(60, 64, 67, 0.15);\n",
              "      fill: #174EA6;\n",
              "    }\n",
              "\n",
              "    [theme=dark] .colab-df-convert {\n",
              "      background-color: #3B4455;\n",
              "      fill: #D2E3FC;\n",
              "    }\n",
              "\n",
              "    [theme=dark] .colab-df-convert:hover {\n",
              "      background-color: #434B5C;\n",
              "      box-shadow: 0px 1px 3px 1px rgba(0, 0, 0, 0.15);\n",
              "      filter: drop-shadow(0px 1px 2px rgba(0, 0, 0, 0.3));\n",
              "      fill: #FFFFFF;\n",
              "    }\n",
              "  </style>\n",
              "\n",
              "      <script>\n",
              "        const buttonEl =\n",
              "          document.querySelector('#df-4e024b61-f6c1-4997-85a3-c489cd8fbf71 button.colab-df-convert');\n",
              "        buttonEl.style.display =\n",
              "          google.colab.kernel.accessAllowed ? 'block' : 'none';\n",
              "\n",
              "        async function convertToInteractive(key) {\n",
              "          const element = document.querySelector('#df-4e024b61-f6c1-4997-85a3-c489cd8fbf71');\n",
              "          const dataTable =\n",
              "            await google.colab.kernel.invokeFunction('convertToInteractive',\n",
              "                                                     [key], {});\n",
              "          if (!dataTable) return;\n",
              "\n",
              "          const docLinkHtml = 'Like what you see? Visit the ' +\n",
              "            '<a target=\"_blank\" href=https://colab.research.google.com/notebooks/data_table.ipynb>data table notebook</a>'\n",
              "            + ' to learn more about interactive tables.';\n",
              "          element.innerHTML = '';\n",
              "          dataTable['output_type'] = 'display_data';\n",
              "          await google.colab.output.renderOutput(dataTable, element);\n",
              "          const docLink = document.createElement('div');\n",
              "          docLink.innerHTML = docLinkHtml;\n",
              "          element.appendChild(docLink);\n",
              "        }\n",
              "      </script>\n",
              "    </div>\n",
              "  </div>\n",
              "  "
            ]
          },
          "metadata": {},
          "execution_count": 11
        }
      ]
    },
    {
      "cell_type": "code",
      "source": [
        "df_links.groupby('author')['count'].agg(['mean','median','max']).round(0).astype(int).mean()"
      ],
      "metadata": {
        "colab": {
          "base_uri": "https://localhost:8080/"
        },
        "id": "wHymz-T6M4Mr",
        "outputId": "03fc0840-77d5-4b29-f50f-6da21fa2cfad"
      },
      "execution_count": 13,
      "outputs": [
        {
          "output_type": "execute_result",
          "data": {
            "text/plain": [
              "mean      16.857143\n",
              "median    11.000000\n",
              "max       91.285714\n",
              "dtype: float64"
            ]
          },
          "metadata": {},
          "execution_count": 13
        }
      ]
    },
    {
      "cell_type": "markdown",
      "source": [
        "# Comments downloading"
      ],
      "metadata": {
        "id": "fyrZm_9EAgCu"
      }
    },
    {
      "cell_type": "code",
      "source": [
        "# # Loading dataframe if it already exists\n",
        "# df_comments = pd.read_csv('/content/drive/MyDrive/Colab Notebooks/youtube_comments.csv')"
      ],
      "metadata": {
        "colab": {
          "base_uri": "https://localhost:8080/"
        },
        "id": "b9Qw3QZat-pF",
        "outputId": "dbb65bfa-bcb6-4216-a5e7-b348551bbc26"
      },
      "execution_count": 14,
      "outputs": [
        {
          "output_type": "stream",
          "name": "stderr",
          "text": [
            "<ipython-input-14-c17e42ea00dd>:2: DtypeWarning: Columns (11) have mixed types. Specify dtype option on import or set low_memory=False.\n",
            "  df_comments = pd.read_csv('/content/drive/MyDrive/Colab Notebooks/youtube_comments.csv')\n"
          ]
        }
      ]
    },
    {
      "cell_type": "code",
      "execution_count": 17,
      "metadata": {
        "id": "-DDKJEltzFt4"
      },
      "outputs": [],
      "source": [
        "downloader = YoutubeCommentDownloader()"
      ]
    },
    {
      "cell_type": "code",
      "source": [
        "## Downloading comments\n",
        "# df_comments = pd.DataFrame()\n",
        "# for i in tqdm(lost_links): #df_links['link']\n",
        "#   comments = downloader.get_comments_from_url('https://www.youtube.com/watch?v=' + i, \n",
        "#                                               sort_by =  SORT_BY_POPULAR) #SORT_BY_POPULAR / SORT_BY_RECENT\n",
        "#   l_comments = []\n",
        "#   for comment in islice(comments, 10000):\n",
        "#       l_comments.append(comment)\n",
        "#   temp = pd.DataFrame(l_comments)\n",
        "#   temp['link'] = i\n",
        "#   df_comments = pd.concat([df_comments, temp])\n",
        "#   df_comments.to_csv('/content/drive/MyDrive/Colab Notebooks/youtube_comments_lost.csv', index=False)"
      ],
      "metadata": {
        "colab": {
          "base_uri": "https://localhost:8080/"
        },
        "id": "Xls8DDeXM-9r",
        "outputId": "414825bc-a95d-403a-f10f-73c8054589e1"
      },
      "execution_count": 18,
      "outputs": [
        {
          "output_type": "stream",
          "name": "stderr",
          "text": [
            "100%|██████████| 32/32 [1:11:03<00:00, 133.22s/it]\n"
          ]
        }
      ]
    },
    {
      "cell_type": "code",
      "source": [
        "df_comments.shape"
      ],
      "metadata": {
        "colab": {
          "base_uri": "https://localhost:8080/"
        },
        "id": "hz9PLKSCSrPp",
        "outputId": "6cfb5a33-6b35-439b-efe5-f5f76df6834c"
      },
      "execution_count": 29,
      "outputs": [
        {
          "output_type": "execute_result",
          "data": {
            "text/plain": [
              "(531854, 12)"
            ]
          },
          "metadata": {},
          "execution_count": 29
        }
      ]
    },
    {
      "cell_type": "code",
      "source": [
        "df_comments.columns"
      ],
      "metadata": {
        "colab": {
          "base_uri": "https://localhost:8080/"
        },
        "id": "W32YccMfGRMF",
        "outputId": "f5d3b01d-7808-4e10-cba4-1a40061f094d"
      },
      "execution_count": 32,
      "outputs": [
        {
          "output_type": "execute_result",
          "data": {
            "text/plain": [
              "Index(['cid', 'text', 'time', 'author', 'channel', 'votes', 'photo', 'heart',\n",
              "       'reply', 'time_parsed', 'link', 'paid'],\n",
              "      dtype='object')"
            ]
          },
          "metadata": {},
          "execution_count": 32
        }
      ]
    },
    {
      "cell_type": "code",
      "source": [
        "df_comments.head(3)"
      ],
      "metadata": {
        "colab": {
          "base_uri": "https://localhost:8080/",
          "height": 503
        },
        "id": "NaCGPLa9GfZ6",
        "outputId": "bc35e379-ce13-4842-b75e-8fab1ff3865e"
      },
      "execution_count": 38,
      "outputs": [
        {
          "output_type": "execute_result",
          "data": {
            "text/plain": [
              "                          cid  \\\n",
              "0  UgxcwIb_m7xdaZXM82B4AaABAg   \n",
              "1  UgwZKXnkXZbrwduAYE54AaABAg   \n",
              "2  Ugzad9aAcMoZ3cfho-h4AaABAg   \n",
              "\n",
              "                                                text          time  \\\n",
              "0  Вместо родитель номер один и родитель номер дв...  11 hours ago   \n",
              "1  После того, как Песков заявил, что двойников у...   8 hours ago   \n",
              "2  Самое страшное в двойниках, что оригинал может...   8 hours ago   \n",
              "\n",
              "            author                   channel votes  \\\n",
              "0  Pavel Degtyarev  UCRAF7PKsw5C7-f4TNrm35tA  1.4K   \n",
              "1  Ксения Астрейко  UCERLdhjjeJ4JxPHAqfKWrkA   868   \n",
              "2     TheStrang007  UCXskLwGJl9c-pFx9fFEjY9Q   380   \n",
              "\n",
              "                                               photo  heart  reply  \\\n",
              "0  https://yt3.ggpht.com/ytc/AGIKgqMEvBRjpMDmbWGR...  False  False   \n",
              "1  https://yt3.ggpht.com/ytc/AGIKgqOt-jBmPv2xj90K...  False  False   \n",
              "2  https://yt3.ggpht.com/ytc/AGIKgqMDTg5LF_ClrCNt...  False  False   \n",
              "\n",
              "    time_parsed         link paid  \n",
              "0  1.682519e+09  hyHpp9dVMQU  NaN  \n",
              "1  1.682530e+09  hyHpp9dVMQU  NaN  \n",
              "2  1.682530e+09  hyHpp9dVMQU  NaN  "
            ],
            "text/html": [
              "\n",
              "  <div id=\"df-7bb3d9b2-3082-4d9c-a2d5-8d971a8502b9\">\n",
              "    <div class=\"colab-df-container\">\n",
              "      <div>\n",
              "<style scoped>\n",
              "    .dataframe tbody tr th:only-of-type {\n",
              "        vertical-align: middle;\n",
              "    }\n",
              "\n",
              "    .dataframe tbody tr th {\n",
              "        vertical-align: top;\n",
              "    }\n",
              "\n",
              "    .dataframe thead th {\n",
              "        text-align: right;\n",
              "    }\n",
              "</style>\n",
              "<table border=\"1\" class=\"dataframe\">\n",
              "  <thead>\n",
              "    <tr style=\"text-align: right;\">\n",
              "      <th></th>\n",
              "      <th>cid</th>\n",
              "      <th>text</th>\n",
              "      <th>time</th>\n",
              "      <th>author</th>\n",
              "      <th>channel</th>\n",
              "      <th>votes</th>\n",
              "      <th>photo</th>\n",
              "      <th>heart</th>\n",
              "      <th>reply</th>\n",
              "      <th>time_parsed</th>\n",
              "      <th>link</th>\n",
              "      <th>paid</th>\n",
              "    </tr>\n",
              "  </thead>\n",
              "  <tbody>\n",
              "    <tr>\n",
              "      <th>0</th>\n",
              "      <td>UgxcwIb_m7xdaZXM82B4AaABAg</td>\n",
              "      <td>Вместо родитель номер один и родитель номер дв...</td>\n",
              "      <td>11 hours ago</td>\n",
              "      <td>Pavel Degtyarev</td>\n",
              "      <td>UCRAF7PKsw5C7-f4TNrm35tA</td>\n",
              "      <td>1.4K</td>\n",
              "      <td>https://yt3.ggpht.com/ytc/AGIKgqMEvBRjpMDmbWGR...</td>\n",
              "      <td>False</td>\n",
              "      <td>False</td>\n",
              "      <td>1.682519e+09</td>\n",
              "      <td>hyHpp9dVMQU</td>\n",
              "      <td>NaN</td>\n",
              "    </tr>\n",
              "    <tr>\n",
              "      <th>1</th>\n",
              "      <td>UgwZKXnkXZbrwduAYE54AaABAg</td>\n",
              "      <td>После того, как Песков заявил, что двойников у...</td>\n",
              "      <td>8 hours ago</td>\n",
              "      <td>Ксения Астрейко</td>\n",
              "      <td>UCERLdhjjeJ4JxPHAqfKWrkA</td>\n",
              "      <td>868</td>\n",
              "      <td>https://yt3.ggpht.com/ytc/AGIKgqOt-jBmPv2xj90K...</td>\n",
              "      <td>False</td>\n",
              "      <td>False</td>\n",
              "      <td>1.682530e+09</td>\n",
              "      <td>hyHpp9dVMQU</td>\n",
              "      <td>NaN</td>\n",
              "    </tr>\n",
              "    <tr>\n",
              "      <th>2</th>\n",
              "      <td>Ugzad9aAcMoZ3cfho-h4AaABAg</td>\n",
              "      <td>Самое страшное в двойниках, что оригинал может...</td>\n",
              "      <td>8 hours ago</td>\n",
              "      <td>TheStrang007</td>\n",
              "      <td>UCXskLwGJl9c-pFx9fFEjY9Q</td>\n",
              "      <td>380</td>\n",
              "      <td>https://yt3.ggpht.com/ytc/AGIKgqMDTg5LF_ClrCNt...</td>\n",
              "      <td>False</td>\n",
              "      <td>False</td>\n",
              "      <td>1.682530e+09</td>\n",
              "      <td>hyHpp9dVMQU</td>\n",
              "      <td>NaN</td>\n",
              "    </tr>\n",
              "  </tbody>\n",
              "</table>\n",
              "</div>\n",
              "      <button class=\"colab-df-convert\" onclick=\"convertToInteractive('df-7bb3d9b2-3082-4d9c-a2d5-8d971a8502b9')\"\n",
              "              title=\"Convert this dataframe to an interactive table.\"\n",
              "              style=\"display:none;\">\n",
              "        \n",
              "  <svg xmlns=\"http://www.w3.org/2000/svg\" height=\"24px\"viewBox=\"0 0 24 24\"\n",
              "       width=\"24px\">\n",
              "    <path d=\"M0 0h24v24H0V0z\" fill=\"none\"/>\n",
              "    <path d=\"M18.56 5.44l.94 2.06.94-2.06 2.06-.94-2.06-.94-.94-2.06-.94 2.06-2.06.94zm-11 1L8.5 8.5l.94-2.06 2.06-.94-2.06-.94L8.5 2.5l-.94 2.06-2.06.94zm10 10l.94 2.06.94-2.06 2.06-.94-2.06-.94-.94-2.06-.94 2.06-2.06.94z\"/><path d=\"M17.41 7.96l-1.37-1.37c-.4-.4-.92-.59-1.43-.59-.52 0-1.04.2-1.43.59L10.3 9.45l-7.72 7.72c-.78.78-.78 2.05 0 2.83L4 21.41c.39.39.9.59 1.41.59.51 0 1.02-.2 1.41-.59l7.78-7.78 2.81-2.81c.8-.78.8-2.07 0-2.86zM5.41 20L4 18.59l7.72-7.72 1.47 1.35L5.41 20z\"/>\n",
              "  </svg>\n",
              "      </button>\n",
              "      \n",
              "  <style>\n",
              "    .colab-df-container {\n",
              "      display:flex;\n",
              "      flex-wrap:wrap;\n",
              "      gap: 12px;\n",
              "    }\n",
              "\n",
              "    .colab-df-convert {\n",
              "      background-color: #E8F0FE;\n",
              "      border: none;\n",
              "      border-radius: 50%;\n",
              "      cursor: pointer;\n",
              "      display: none;\n",
              "      fill: #1967D2;\n",
              "      height: 32px;\n",
              "      padding: 0 0 0 0;\n",
              "      width: 32px;\n",
              "    }\n",
              "\n",
              "    .colab-df-convert:hover {\n",
              "      background-color: #E2EBFA;\n",
              "      box-shadow: 0px 1px 2px rgba(60, 64, 67, 0.3), 0px 1px 3px 1px rgba(60, 64, 67, 0.15);\n",
              "      fill: #174EA6;\n",
              "    }\n",
              "\n",
              "    [theme=dark] .colab-df-convert {\n",
              "      background-color: #3B4455;\n",
              "      fill: #D2E3FC;\n",
              "    }\n",
              "\n",
              "    [theme=dark] .colab-df-convert:hover {\n",
              "      background-color: #434B5C;\n",
              "      box-shadow: 0px 1px 3px 1px rgba(0, 0, 0, 0.15);\n",
              "      filter: drop-shadow(0px 1px 2px rgba(0, 0, 0, 0.3));\n",
              "      fill: #FFFFFF;\n",
              "    }\n",
              "  </style>\n",
              "\n",
              "      <script>\n",
              "        const buttonEl =\n",
              "          document.querySelector('#df-7bb3d9b2-3082-4d9c-a2d5-8d971a8502b9 button.colab-df-convert');\n",
              "        buttonEl.style.display =\n",
              "          google.colab.kernel.accessAllowed ? 'block' : 'none';\n",
              "\n",
              "        async function convertToInteractive(key) {\n",
              "          const element = document.querySelector('#df-7bb3d9b2-3082-4d9c-a2d5-8d971a8502b9');\n",
              "          const dataTable =\n",
              "            await google.colab.kernel.invokeFunction('convertToInteractive',\n",
              "                                                     [key], {});\n",
              "          if (!dataTable) return;\n",
              "\n",
              "          const docLinkHtml = 'Like what you see? Visit the ' +\n",
              "            '<a target=\"_blank\" href=https://colab.research.google.com/notebooks/data_table.ipynb>data table notebook</a>'\n",
              "            + ' to learn more about interactive tables.';\n",
              "          element.innerHTML = '';\n",
              "          dataTable['output_type'] = 'display_data';\n",
              "          await google.colab.output.renderOutput(dataTable, element);\n",
              "          const docLink = document.createElement('div');\n",
              "          docLink.innerHTML = docLinkHtml;\n",
              "          element.appendChild(docLink);\n",
              "        }\n",
              "      </script>\n",
              "    </div>\n",
              "  </div>\n",
              "  "
            ]
          },
          "metadata": {},
          "execution_count": 38
        }
      ]
    },
    {
      "cell_type": "markdown",
      "source": [
        "# Analysis"
      ],
      "metadata": {
        "id": "Gym9JN7get56"
      }
    },
    {
      "cell_type": "markdown",
      "source": [
        "## Baseline calc"
      ],
      "metadata": {
        "id": "wBvxm3rhzEXq"
      }
    },
    {
      "cell_type": "code",
      "source": [
        "# DataFrame for exercises  \n",
        "df_baseline = df_comments.drop('author',axis =1).merge(df_links, how = 'left', on = 'link')\\\n",
        ".drop_duplicates(['author','channel','link'])"
      ],
      "metadata": {
        "id": "ybXugNJyza0I"
      },
      "execution_count": 15,
      "outputs": []
    },
    {
      "cell_type": "code",
      "source": [
        "# Calculating of baseline (intersections between videos of same author)\n",
        "l_baselines = []\n",
        "for i in tqdm(df_baseline['author'].unique()):\n",
        "  author_links = df_baseline[df_baseline['author'] == i]['link'].unique()\n",
        "  number_of_videos = len(df_baseline[df_baseline['author'] == i]['link'].unique())\n",
        "  for j in range(number_of_videos-1):\n",
        "    for k in range(j+1, number_of_videos):\n",
        "        l_baselines.append([i, author_links[j], author_links[k],\n",
        "                            df_baseline[df_baseline['link'] == author_links[j]]['channel'].\\\n",
        "                            isin(df_baseline[df_baseline['link'] == author_links[k]]['channel']).mean()])\n"
      ],
      "metadata": {
        "colab": {
          "base_uri": "https://localhost:8080/"
        },
        "id": "m73jCFQnzHCv",
        "outputId": "92f10c9f-9380-4a1f-e30b-de2135e4525b"
      },
      "execution_count": 16,
      "outputs": [
        {
          "output_type": "stream",
          "name": "stderr",
          "text": [
            "100%|██████████| 8/8 [02:02<00:00, 15.36s/it]\n"
          ]
        }
      ]
    },
    {
      "cell_type": "code",
      "source": [
        "l_baselines = pd.DataFrame(l_baselines)\n",
        "l_baselines.columns = ['author','v1','v2','share']\n",
        "\n",
        "l_baselines.groupby('author')['share'].mean().plot.barh(title = 'Intersection')"
      ],
      "metadata": {
        "colab": {
          "base_uri": "https://localhost:8080/",
          "height": 469
        },
        "id": "1n95q4QX2-fa",
        "outputId": "30e517cb-0ec0-476e-c084-b037c77aed94"
      },
      "execution_count": 17,
      "outputs": [
        {
          "output_type": "execute_result",
          "data": {
            "text/plain": [
              "<Axes: title={'center': 'Intersection'}, ylabel='author'>"
            ]
          },
          "metadata": {},
          "execution_count": 17
        },
        {
          "output_type": "display_data",
          "data": {
            "text/plain": [
              "<Figure size 640x480 with 1 Axes>"
            ],
            "image/png": "[encoded data removed]"
          },
          "metadata": {}
        }
      ]
    },
    {
      "cell_type": "markdown",
      "source": [
        "## Main calc"
      ],
      "metadata": {
        "id": "SES3aAnVzHig"
      }
    },
    {
      "cell_type": "code",
      "source": [
        "# DataFrame for exercises  \n",
        "df_temp = df_comments.drop('author',axis =1).merge(df_links, how = 'left', on = 'link')"
      ],
      "metadata": {
        "id": "M9iNPPaMGxg-"
      },
      "execution_count": 18,
      "outputs": []
    },
    {
      "cell_type": "code",
      "source": [
        "df_temp.info()"
      ],
      "metadata": {
        "colab": {
          "base_uri": "https://localhost:8080/"
        },
        "id": "4ofk96xeH91e",
        "outputId": "6261be3a-0a60-460a-8663-de5e476402e4"
      },
      "execution_count": 19,
      "outputs": [
        {
          "output_type": "stream",
          "name": "stdout",
          "text": [
            "<class 'pandas.core.frame.DataFrame'>\n",
            "Int64Index: 531854 entries, 0 to 531853\n",
            "Data columns (total 13 columns):\n",
            " #   Column       Non-Null Count   Dtype  \n",
            "---  ------       --------------   -----  \n",
            " 0   cid          531854 non-null  object \n",
            " 1   text         531854 non-null  object \n",
            " 2   time         531854 non-null  object \n",
            " 3   channel      531853 non-null  object \n",
            " 4   votes        531854 non-null  object \n",
            " 5   photo        531854 non-null  object \n",
            " 6   heart        531854 non-null  bool   \n",
            " 7   reply        531854 non-null  bool   \n",
            " 8   time_parsed  531854 non-null  float64\n",
            " 9   link         531854 non-null  object \n",
            " 10  paid         138 non-null     object \n",
            " 11  author       414773 non-null  object \n",
            " 12  count        414773 non-null  float64\n",
            "dtypes: bool(2), float64(2), object(9)\n",
            "memory usage: 49.7+ MB\n"
          ]
        }
      ]
    },
    {
      "cell_type": "code",
      "source": [
        "df_temp.nunique()"
      ],
      "metadata": {
        "colab": {
          "base_uri": "https://localhost:8080/"
        },
        "id": "pq9lASuxIZs1",
        "outputId": "56f18b84-a4c2-47bd-d8af-b3efd90cb6e2"
      },
      "execution_count": 20,
      "outputs": [
        {
          "output_type": "execute_result",
          "data": {
            "text/plain": [
              "cid            531854\n",
              "text           508626\n",
              "time              190\n",
              "channel        221704\n",
              "votes            1079\n",
              "photo          185136\n",
              "heart               2\n",
              "reply               2\n",
              "time_parsed    531854\n",
              "link              229\n",
              "paid               61\n",
              "author              7\n",
              "count             101\n",
              "dtype: int64"
            ]
          },
          "metadata": {},
          "execution_count": 20
        }
      ]
    },
    {
      "cell_type": "code",
      "source": [
        "# Dropping duplicates of comments to specific author from the same channel\n",
        "df_temp = df_temp.drop_duplicates(['author','channel'])\n",
        "# Discovering author's minimum number of video\n",
        "df_temp.drop_duplicates(['author','link']).groupby('author')['link'].count().min()"
      ],
      "metadata": {
        "colab": {
          "base_uri": "https://localhost:8080/"
        },
        "id": "DNZZgJMLICoX",
        "outputId": "ebd5d367-34df-423c-bc05-2c915148fd69"
      },
      "execution_count": 21,
      "outputs": [
        {
          "output_type": "execute_result",
          "data": {
            "text/plain": [
              "20"
            ]
          },
          "metadata": {},
          "execution_count": 21
        }
      ]
    },
    {
      "cell_type": "code",
      "source": [
        "top_links = df_temp.drop_duplicates(['author','link']).groupby('author').head(21)['link']\n",
        "df_temp = df_temp[df_temp['link'].isin(top_links)]\n",
        "df_temp.shape"
      ],
      "metadata": {
        "colab": {
          "base_uri": "https://localhost:8080/"
        },
        "id": "ikaqWpw3P6f0",
        "outputId": "d2050640-4750-44e7-a036-5529e9626670"
      },
      "execution_count": 22,
      "outputs": [
        {
          "output_type": "execute_result",
          "data": {
            "text/plain": [
              "(168727, 13)"
            ]
          },
          "metadata": {},
          "execution_count": 22
        }
      ]
    },
    {
      "cell_type": "code",
      "source": [
        "l_union = []\n",
        "for i in df_temp['author'].unique():\n",
        "  for j in df_temp['author'].unique():\n",
        "    if i != j:\n",
        "      l_union.append([i, j, df_temp[(df_temp['author'] == i) & (df_temp['link'].isin(top_links))]['channel'].shape[0],\n",
        "                    df_temp[df_temp['author'] == i]['channel'].isin(df_temp[df_temp['author'] == j]['channel']).sum()])\n",
        "l_union = pd.DataFrame(l_union)\n",
        "l_union.columns = ['in','out','total','out_count']\n",
        "l_union['share'] = l_union['out_count']/l_union['total']"
      ],
      "metadata": {
        "id": "XsYcYvuAIpNP"
      },
      "execution_count": 23,
      "outputs": []
    },
    {
      "cell_type": "code",
      "source": [
        "l_union.head(6)"
      ],
      "metadata": {
        "colab": {
          "base_uri": "https://localhost:8080/",
          "height": 238
        },
        "id": "ijjIE8uVMfKO",
        "outputId": "5cf6a4dc-39e6-4bf0-c3f3-de0cc51f32db"
      },
      "execution_count": 25,
      "outputs": [
        {
          "output_type": "execute_result",
          "data": {
            "text/plain": [
              "         in             out  total  out_count     share\n",
              "0  Max_Katz  khodorkovskyru  23537       1672  0.071037\n",
              "1  Max_Katz         sobchak  23537        766  0.032545\n",
              "2  Max_Katz     zhivoygvozd  23537        345  0.014658\n",
              "3  Max_Katz  Vladimir_Milov  23537       1035  0.043973\n",
              "4  Max_Katz   yashin_russia  23537       1533  0.065131\n",
              "5  Max_Katz            vdud  23537       1736  0.073756"
            ],
            "text/html": [
              "\n",
              "  <div id=\"df-3ecca79b-e850-451a-9d21-21d327627c57\">\n",
              "    <div class=\"colab-df-container\">\n",
              "      <div>\n",
              "<style scoped>\n",
              "    .dataframe tbody tr th:only-of-type {\n",
              "        vertical-align: middle;\n",
              "    }\n",
              "\n",
              "    .dataframe tbody tr th {\n",
              "        vertical-align: top;\n",
              "    }\n",
              "\n",
              "    .dataframe thead th {\n",
              "        text-align: right;\n",
              "    }\n",
              "</style>\n",
              "<table border=\"1\" class=\"dataframe\">\n",
              "  <thead>\n",
              "    <tr style=\"text-align: right;\">\n",
              "      <th></th>\n",
              "      <th>in</th>\n",
              "      <th>out</th>\n",
              "      <th>total</th>\n",
              "      <th>out_count</th>\n",
              "      <th>share</th>\n",
              "    </tr>\n",
              "  </thead>\n",
              "  <tbody>\n",
              "    <tr>\n",
              "      <th>0</th>\n",
              "      <td>Max_Katz</td>\n",
              "      <td>khodorkovskyru</td>\n",
              "      <td>23537</td>\n",
              "      <td>1672</td>\n",
              "      <td>0.071037</td>\n",
              "    </tr>\n",
              "    <tr>\n",
              "      <th>1</th>\n",
              "      <td>Max_Katz</td>\n",
              "      <td>sobchak</td>\n",
              "      <td>23537</td>\n",
              "      <td>766</td>\n",
              "      <td>0.032545</td>\n",
              "    </tr>\n",
              "    <tr>\n",
              "      <th>2</th>\n",
              "      <td>Max_Katz</td>\n",
              "      <td>zhivoygvozd</td>\n",
              "      <td>23537</td>\n",
              "      <td>345</td>\n",
              "      <td>0.014658</td>\n",
              "    </tr>\n",
              "    <tr>\n",
              "      <th>3</th>\n",
              "      <td>Max_Katz</td>\n",
              "      <td>Vladimir_Milov</td>\n",
              "      <td>23537</td>\n",
              "      <td>1035</td>\n",
              "      <td>0.043973</td>\n",
              "    </tr>\n",
              "    <tr>\n",
              "      <th>4</th>\n",
              "      <td>Max_Katz</td>\n",
              "      <td>yashin_russia</td>\n",
              "      <td>23537</td>\n",
              "      <td>1533</td>\n",
              "      <td>0.065131</td>\n",
              "    </tr>\n",
              "    <tr>\n",
              "      <th>5</th>\n",
              "      <td>Max_Katz</td>\n",
              "      <td>vdud</td>\n",
              "      <td>23537</td>\n",
              "      <td>1736</td>\n",
              "      <td>0.073756</td>\n",
              "    </tr>\n",
              "  </tbody>\n",
              "</table>\n",
              "</div>\n",
              "      <button class=\"colab-df-convert\" onclick=\"convertToInteractive('df-3ecca79b-e850-451a-9d21-21d327627c57')\"\n",
              "              title=\"Convert this dataframe to an interactive table.\"\n",
              "              style=\"display:none;\">\n",
              "        \n",
              "  <svg xmlns=\"http://www.w3.org/2000/svg\" height=\"24px\"viewBox=\"0 0 24 24\"\n",
              "       width=\"24px\">\n",
              "    <path d=\"M0 0h24v24H0V0z\" fill=\"none\"/>\n",
              "    <path d=\"M18.56 5.44l.94 2.06.94-2.06 2.06-.94-2.06-.94-.94-2.06-.94 2.06-2.06.94zm-11 1L8.5 8.5l.94-2.06 2.06-.94-2.06-.94L8.5 2.5l-.94 2.06-2.06.94zm10 10l.94 2.06.94-2.06 2.06-.94-2.06-.94-.94-2.06-.94 2.06-2.06.94z\"/><path d=\"M17.41 7.96l-1.37-1.37c-.4-.4-.92-.59-1.43-.59-.52 0-1.04.2-1.43.59L10.3 9.45l-7.72 7.72c-.78.78-.78 2.05 0 2.83L4 21.41c.39.39.9.59 1.41.59.51 0 1.02-.2 1.41-.59l7.78-7.78 2.81-2.81c.8-.78.8-2.07 0-2.86zM5.41 20L4 18.59l7.72-7.72 1.47 1.35L5.41 20z\"/>\n",
              "  </svg>\n",
              "      </button>\n",
              "      \n",
              "  <style>\n",
              "    .colab-df-container {\n",
              "      display:flex;\n",
              "      flex-wrap:wrap;\n",
              "      gap: 12px;\n",
              "    }\n",
              "\n",
              "    .colab-df-convert {\n",
              "      background-color: #E8F0FE;\n",
              "      border: none;\n",
              "      border-radius: 50%;\n",
              "      cursor: pointer;\n",
              "      display: none;\n",
              "      fill: #1967D2;\n",
              "      height: 32px;\n",
              "      padding: 0 0 0 0;\n",
              "      width: 32px;\n",
              "    }\n",
              "\n",
              "    .colab-df-convert:hover {\n",
              "      background-color: #E2EBFA;\n",
              "      box-shadow: 0px 1px 2px rgba(60, 64, 67, 0.3), 0px 1px 3px 1px rgba(60, 64, 67, 0.15);\n",
              "      fill: #174EA6;\n",
              "    }\n",
              "\n",
              "    [theme=dark] .colab-df-convert {\n",
              "      background-color: #3B4455;\n",
              "      fill: #D2E3FC;\n",
              "    }\n",
              "\n",
              "    [theme=dark] .colab-df-convert:hover {\n",
              "      background-color: #434B5C;\n",
              "      box-shadow: 0px 1px 3px 1px rgba(0, 0, 0, 0.15);\n",
              "      filter: drop-shadow(0px 1px 2px rgba(0, 0, 0, 0.3));\n",
              "      fill: #FFFFFF;\n",
              "    }\n",
              "  </style>\n",
              "\n",
              "      <script>\n",
              "        const buttonEl =\n",
              "          document.querySelector('#df-3ecca79b-e850-451a-9d21-21d327627c57 button.colab-df-convert');\n",
              "        buttonEl.style.display =\n",
              "          google.colab.kernel.accessAllowed ? 'block' : 'none';\n",
              "\n",
              "        async function convertToInteractive(key) {\n",
              "          const element = document.querySelector('#df-3ecca79b-e850-451a-9d21-21d327627c57');\n",
              "          const dataTable =\n",
              "            await google.colab.kernel.invokeFunction('convertToInteractive',\n",
              "                                                     [key], {});\n",
              "          if (!dataTable) return;\n",
              "\n",
              "          const docLinkHtml = 'Like what you see? Visit the ' +\n",
              "            '<a target=\"_blank\" href=https://colab.research.google.com/notebooks/data_table.ipynb>data table notebook</a>'\n",
              "            + ' to learn more about interactive tables.';\n",
              "          element.innerHTML = '';\n",
              "          dataTable['output_type'] = 'display_data';\n",
              "          await google.colab.output.renderOutput(dataTable, element);\n",
              "          const docLink = document.createElement('div');\n",
              "          docLink.innerHTML = docLinkHtml;\n",
              "          element.appendChild(docLink);\n",
              "        }\n",
              "      </script>\n",
              "    </div>\n",
              "  </div>\n",
              "  "
            ]
          },
          "metadata": {},
          "execution_count": 25
        }
      ]
    },
    {
      "cell_type": "code",
      "source": [
        "# Russian names\n",
        "d_authors = {'Max_Katz':\"Katz\",\n",
        "           'khodorkovskyru':\"Khodorkovsky\",\n",
        "           'sobchak':\"Sobchak\",\n",
        "           'NavalnyRu':\"Navalny\",\n",
        "           'NavalnyLiveChannel':\"Navalny Live\",\n",
        "           'zhivoygvozd':\"Venedictov\",\n",
        "           'Vladimir_Milov':\"Milov\",\n",
        "           'yashin_russia':\"Yashin\",\n",
        "           'vdud':'Dud'}"
      ],
      "metadata": {
        "id": "rgWVLRkdR5OD"
      },
      "execution_count": 26,
      "outputs": []
    },
    {
      "cell_type": "code",
      "source": [
        "l_union['name'] = l_union['out'].map(d_authors)"
      ],
      "metadata": {
        "id": "wfP-0BneSRyw"
      },
      "execution_count": 27,
      "outputs": []
    },
    {
      "cell_type": "markdown",
      "source": [
        "## Horisontal bar"
      ],
      "metadata": {
        "id": "6m2pZ3C7hlfp"
      }
    },
    {
      "cell_type": "code",
      "source": [
        "import matplotlib.pyplot as plt\n",
        "import matplotlib.ticker as mtick\n",
        "\n",
        "# Define data\n",
        "y = l_union[l_union['in'] == 'Max_Katz']['name']\n",
        "x = l_union[l_union['in'] == 'Max_Katz']['share']*100\n",
        "\n",
        "# Create horizontal bar histogram\n",
        "plt.barh(y, x, color='green', height=0.5)\n",
        "\n",
        "\n",
        "# Customize x-axis\n",
        "fmt = '%.0f%%' # Format y-axis as percentage with no decimal places\n",
        "xticks = mtick.FormatStrFormatter(fmt)\n",
        "plt.gca().xaxis.set_major_formatter(xticks)\n",
        "\n",
        "# Customize parameters\n",
        "plt.title('The intersection of Katz channel commentators with some other channels (last 21 videos)')\n",
        "plt.xlabel('Intersection')\n",
        "# plt.xlim(0, 10)\n",
        "plt.grid(True)\n",
        "\n",
        "# Show plot\n",
        "plt.show()\n"
      ],
      "metadata": {
        "colab": {
          "base_uri": "https://localhost:8080/",
          "height": 472
        },
        "id": "pme7DPJgUmlr",
        "outputId": "ae1aad61-cff4-4b2f-e8a3-24c7170b31cb"
      },
      "execution_count": 29,
      "outputs": [
        {
          "output_type": "display_data",
          "data": {
            "text/plain": [
              "<Figure size 640x480 with 1 Axes>"
            ],
            "image/png": "[encoded data removed]"
          },
          "metadata": {}
        }
      ]
    },
    {
      "cell_type": "markdown",
      "source": [
        "## Venn Diagram"
      ],
      "metadata": {
        "id": "T_lhA0XxhgKo"
      }
    },
    {
      "cell_type": "code",
      "source": [
        "from matplotlib_venn import venn3\n",
        "top_3_authors = ['Max_Katz','khodorkovskyru','sobchak']\n",
        "# Define sets\n",
        "set0 = set(df_temp[df_temp['author'] == top_3_authors[0]]['channel'])\n",
        "set1 = set(df_temp[df_temp['author'] == top_3_authors[1]]['channel'])\n",
        "set2 = set(df_temp[df_temp['author'] == top_3_authors[2]]['channel'])\n",
        "\n",
        "# Draw Venn diagram\n",
        "venn3([set0, set1, set2], set_labels=(top_3_authors))\n",
        "\n",
        "# Show plot\n",
        "plt.show()"
      ],
      "metadata": {
        "colab": {
          "base_uri": "https://localhost:8080/",
          "height": 407
        },
        "id": "6CXIp_D5hJt0",
        "outputId": "9ec73a78-3c65-416c-ab7e-dc1294103b52"
      },
      "execution_count": 30,
      "outputs": [
        {
          "output_type": "display_data",
          "data": {
            "text/plain": [
              "<Figure size 640x480 with 1 Axes>"
            ],
            "image/png": "[encoded data removed]"
          },
          "metadata": {}
        }
      ]
    },
    {
      "cell_type": "code",
      "source": [],
      "metadata": {
        "id": "7enDhlnb2327"
      },
      "execution_count": null,
      "outputs": []
    }
  ]
}