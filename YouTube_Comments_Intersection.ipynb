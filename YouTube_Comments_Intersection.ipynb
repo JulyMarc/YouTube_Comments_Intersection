{
  "nbformat": 4,
  "nbformat_minor": 0,
  "metadata": {
    "colab": {
      "provenance": [],
      "toc_visible": true,
      "mount_file_id": "1_xVBbrjxUbUSR5VCmOw0dbHx5DVO-dNJ",
      "authorship_tag": "ABX9TyNGW3F3plec+CF4PgcTlEzX",
      "include_colab_link": true
    },
    "kernelspec": {
      "name": "python3",
      "display_name": "Python 3"
    },
    "language_info": {
      "name": "python"
    }
  },
  "cells": [
    {
      "cell_type": "markdown",
      "metadata": {
        "id": "view-in-github",
        "colab_type": "text"
      },
      "source": [
        "<a href=\"https://colab.research.google.com/github/JulyMarc/YouTube_Comments_Intersection/blob/main/YouTube_Comments_Intersection.ipynb\" target=\"_parent\"><img src=\"https://colab.research.google.com/assets/colab-badge.svg\" alt=\"Open In Colab\"/></a>"
      ]
    },
    {
      "cell_type": "markdown",
      "source": [
        "# Libs and etc"
      ],
      "metadata": {
        "id": "nNzDMZwAAkXp"
      }
    },
    {
      "cell_type": "code",
      "source": [
        "pip install youtube_comment_downloader"
      ],
      "metadata": {
        "colab": {
          "base_uri": "https://localhost:8080/"
        },
        "id": "OW0fVg_VAV0e",
        "outputId": "2dae80b5-19e3-4112-ac75-e4fef08f1dec"
      },
      "execution_count": 1,
      "outputs": [
        {
          "output_type": "stream",
          "name": "stdout",
          "text": [
            "Looking in indexes: https://pypi.org/simple, https://us-python.pkg.dev/colab-wheels/public/simple/\n",
            "Collecting youtube_comment_downloader\n",
            "  Downloading youtube_comment_downloader-0.1.68-py3-none-any.whl (7.7 kB)\n",
            "Collecting dateparser\n",
            "  Downloading dateparser-1.1.8-py2.py3-none-any.whl (293 kB)\n",
            "\u001b[2K     \u001b[90m━━━━━━━━━━━━━━━━━━━━━━━━━━━━━━━━━━━━━━\u001b[0m \u001b[32m293.8/293.8 kB\u001b[0m \u001b[31m19.7 MB/s\u001b[0m eta \u001b[36m0:00:00\u001b[0m\n",
            "\u001b[?25hRequirement already satisfied: requests in /usr/local/lib/python3.9/dist-packages (from youtube_comment_downloader) (2.27.1)\n",
            "Requirement already satisfied: tzlocal in /usr/local/lib/python3.9/dist-packages (from dateparser->youtube_comment_downloader) (4.3)\n",
            "Requirement already satisfied: regex!=2019.02.19,!=2021.8.27 in /usr/local/lib/python3.9/dist-packages (from dateparser->youtube_comment_downloader) (2022.10.31)\n",
            "Requirement already satisfied: python-dateutil in /usr/local/lib/python3.9/dist-packages (from dateparser->youtube_comment_downloader) (2.8.2)\n",
            "Requirement already satisfied: pytz in /usr/local/lib/python3.9/dist-packages (from dateparser->youtube_comment_downloader) (2022.7.1)\n",
            "Requirement already satisfied: idna<4,>=2.5 in /usr/local/lib/python3.9/dist-packages (from requests->youtube_comment_downloader) (3.4)\n",
            "Requirement already satisfied: certifi>=2017.4.17 in /usr/local/lib/python3.9/dist-packages (from requests->youtube_comment_downloader) (2022.12.7)\n",
            "Requirement already satisfied: charset-normalizer~=2.0.0 in /usr/local/lib/python3.9/dist-packages (from requests->youtube_comment_downloader) (2.0.12)\n",
            "Requirement already satisfied: urllib3<1.27,>=1.21.1 in /usr/local/lib/python3.9/dist-packages (from requests->youtube_comment_downloader) (1.26.15)\n",
            "Requirement already satisfied: six>=1.5 in /usr/local/lib/python3.9/dist-packages (from python-dateutil->dateparser->youtube_comment_downloader) (1.16.0)\n",
            "Requirement already satisfied: pytz-deprecation-shim in /usr/local/lib/python3.9/dist-packages (from tzlocal->dateparser->youtube_comment_downloader) (0.1.0.post0)\n",
            "Requirement already satisfied: tzdata in /usr/local/lib/python3.9/dist-packages (from pytz-deprecation-shim->tzlocal->dateparser->youtube_comment_downloader) (2023.3)\n",
            "Installing collected packages: dateparser, youtube_comment_downloader\n",
            "Successfully installed dateparser-1.1.8 youtube_comment_downloader-0.1.68\n"
          ]
        }
      ]
    },
    {
      "cell_type": "code",
      "source": [
        "import requests\n",
        "import re\n",
        "from bs4 import BeautifulSoup\n",
        "import pandas as pd\n",
        "from tqdm import tqdm"
      ],
      "metadata": {
        "id": "Qm1_7nfE30ru"
      },
      "execution_count": 2,
      "outputs": []
    },
    {
      "cell_type": "code",
      "source": [
        "from itertools import islice\n",
        "from youtube_comment_downloader import *"
      ],
      "metadata": {
        "id": "wMMU5zN3AdFI"
      },
      "execution_count": 3,
      "outputs": []
    },
    {
      "cell_type": "code",
      "source": [
        "from google.colab import drive\n",
        "drive.mount('/content/drive')"
      ],
      "metadata": {
        "id": "0EeauS7YGlvY"
      },
      "execution_count": null,
      "outputs": []
    },
    {
      "cell_type": "markdown",
      "source": [
        "# Video links parsing"
      ],
      "metadata": {
        "id": "PTUua6KuAm8V"
      }
    },
    {
      "cell_type": "code",
      "source": [
        "# List of interested authors\n",
        "authors = ['Max_Katz', 'khodorkovskyru','sobchak','NavalnyRu','NavalnyLiveChannel',\n",
        "           'zhivoygvozd','Vladimir_Milov','yashin_russia', 'vdud']"
      ],
      "metadata": {
        "id": "G8qhAapx1eLD"
      },
      "execution_count": 4,
      "outputs": []
    },
    {
      "cell_type": "code",
      "source": [
        "# Parsing last video links on each author\n",
        "\n",
        "l_links_on_video = []\n",
        "for i in tqdm(authors):\n",
        "  url = 'https://www.youtube.com/@' + i + '/videos'\n",
        "  response = requests.get(url)\n",
        "  html_content = response.content\n",
        "  soup = BeautifulSoup(html_content, 'html.parser')\n",
        "  scripts = soup.find_all('script')\n",
        "\n",
        "  for script in scripts:\n",
        "      if 'ytInitialData' in str(script):\n",
        "          pattern = re.compile(r'\"videoId\":\"(\\w+)\"')\n",
        "          matches = re.findall(pattern, str(script))\n",
        "          for match in matches:\n",
        "            l_links_on_video.append([i,match])"
      ],
      "metadata": {
        "colab": {
          "base_uri": "https://localhost:8080/"
        },
        "id": "3zQzfSOu-5zh",
        "outputId": "af94d611-8a7f-4f66-d8ce-e540a22bb28f"
      },
      "execution_count": 5,
      "outputs": [
        {
          "output_type": "stream",
          "name": "stderr",
          "text": [
            "100%|██████████| 9/9 [00:42<00:00,  4.72s/it]\n"
          ]
        }
      ]
    },
    {
      "cell_type": "code",
      "source": [
        "df_links = pd.DataFrame(l_links_on_video).drop_duplicates()\n",
        "df_links.reset_index(inplace = True)\n",
        "df_links.drop('index', axis = 1, inplace = True)\n",
        "df_links.columns = ['author','link']\n",
        "df_links.shape"
      ],
      "metadata": {
        "colab": {
          "base_uri": "https://localhost:8080/"
        },
        "id": "h6wnr46L3hgP",
        "outputId": "1eed0677-de0f-472e-8cf4-eadd290a5ad4"
      },
      "execution_count": 6,
      "outputs": [
        {
          "output_type": "execute_result",
          "data": {
            "text/plain": [
              "(229, 2)"
            ]
          },
          "metadata": {},
          "execution_count": 6
        }
      ]
    },
    {
      "cell_type": "code",
      "source": [
        "df_links.head()"
      ],
      "metadata": {
        "colab": {
          "base_uri": "https://localhost:8080/",
          "height": 206
        },
        "id": "5wC_Z5khAT5Q",
        "outputId": "e55f92f6-7d75-4cc1-d3ea-32af77d11c15"
      },
      "execution_count": 7,
      "outputs": [
        {
          "output_type": "execute_result",
          "data": {
            "text/plain": [
              "     author         link\n",
              "0  Max_Katz  hyHpp9dVMQU\n",
              "1  Max_Katz  gwrXzeKJpOM\n",
              "2  Max_Katz  cDQDq_Ht9iY\n",
              "3  Max_Katz  v822bgIIkdk\n",
              "4  Max_Katz  HvE33McG8Hc"
            ],
            "text/html": [
              "\n",
              "  <div id=\"df-6a586050-9e37-433d-89fe-5bfaaf24c56e\">\n",
              "    <div class=\"colab-df-container\">\n",
              "      <div>\n",
              "<style scoped>\n",
              "    .dataframe tbody tr th:only-of-type {\n",
              "        vertical-align: middle;\n",
              "    }\n",
              "\n",
              "    .dataframe tbody tr th {\n",
              "        vertical-align: top;\n",
              "    }\n",
              "\n",
              "    .dataframe thead th {\n",
              "        text-align: right;\n",
              "    }\n",
              "</style>\n",
              "<table border=\"1\" class=\"dataframe\">\n",
              "  <thead>\n",
              "    <tr style=\"text-align: right;\">\n",
              "      <th></th>\n",
              "      <th>author</th>\n",
              "      <th>link</th>\n",
              "    </tr>\n",
              "  </thead>\n",
              "  <tbody>\n",
              "    <tr>\n",
              "      <th>0</th>\n",
              "      <td>Max_Katz</td>\n",
              "      <td>hyHpp9dVMQU</td>\n",
              "    </tr>\n",
              "    <tr>\n",
              "      <th>1</th>\n",
              "      <td>Max_Katz</td>\n",
              "      <td>gwrXzeKJpOM</td>\n",
              "    </tr>\n",
              "    <tr>\n",
              "      <th>2</th>\n",
              "      <td>Max_Katz</td>\n",
              "      <td>cDQDq_Ht9iY</td>\n",
              "    </tr>\n",
              "    <tr>\n",
              "      <th>3</th>\n",
              "      <td>Max_Katz</td>\n",
              "      <td>v822bgIIkdk</td>\n",
              "    </tr>\n",
              "    <tr>\n",
              "      <th>4</th>\n",
              "      <td>Max_Katz</td>\n",
              "      <td>HvE33McG8Hc</td>\n",
              "    </tr>\n",
              "  </tbody>\n",
              "</table>\n",
              "</div>\n",
              "      <button class=\"colab-df-convert\" onclick=\"convertToInteractive('df-6a586050-9e37-433d-89fe-5bfaaf24c56e')\"\n",
              "              title=\"Convert this dataframe to an interactive table.\"\n",
              "              style=\"display:none;\">\n",
              "        \n",
              "  <svg xmlns=\"http://www.w3.org/2000/svg\" height=\"24px\"viewBox=\"0 0 24 24\"\n",
              "       width=\"24px\">\n",
              "    <path d=\"M0 0h24v24H0V0z\" fill=\"none\"/>\n",
              "    <path d=\"M18.56 5.44l.94 2.06.94-2.06 2.06-.94-2.06-.94-.94-2.06-.94 2.06-2.06.94zm-11 1L8.5 8.5l.94-2.06 2.06-.94-2.06-.94L8.5 2.5l-.94 2.06-2.06.94zm10 10l.94 2.06.94-2.06 2.06-.94-2.06-.94-.94-2.06-.94 2.06-2.06.94z\"/><path d=\"M17.41 7.96l-1.37-1.37c-.4-.4-.92-.59-1.43-.59-.52 0-1.04.2-1.43.59L10.3 9.45l-7.72 7.72c-.78.78-.78 2.05 0 2.83L4 21.41c.39.39.9.59 1.41.59.51 0 1.02-.2 1.41-.59l7.78-7.78 2.81-2.81c.8-.78.8-2.07 0-2.86zM5.41 20L4 18.59l7.72-7.72 1.47 1.35L5.41 20z\"/>\n",
              "  </svg>\n",
              "      </button>\n",
              "      \n",
              "  <style>\n",
              "    .colab-df-container {\n",
              "      display:flex;\n",
              "      flex-wrap:wrap;\n",
              "      gap: 12px;\n",
              "    }\n",
              "\n",
              "    .colab-df-convert {\n",
              "      background-color: #E8F0FE;\n",
              "      border: none;\n",
              "      border-radius: 50%;\n",
              "      cursor: pointer;\n",
              "      display: none;\n",
              "      fill: #1967D2;\n",
              "      height: 32px;\n",
              "      padding: 0 0 0 0;\n",
              "      width: 32px;\n",
              "    }\n",
              "\n",
              "    .colab-df-convert:hover {\n",
              "      background-color: #E2EBFA;\n",
              "      box-shadow: 0px 1px 2px rgba(60, 64, 67, 0.3), 0px 1px 3px 1px rgba(60, 64, 67, 0.15);\n",
              "      fill: #174EA6;\n",
              "    }\n",
              "\n",
              "    [theme=dark] .colab-df-convert {\n",
              "      background-color: #3B4455;\n",
              "      fill: #D2E3FC;\n",
              "    }\n",
              "\n",
              "    [theme=dark] .colab-df-convert:hover {\n",
              "      background-color: #434B5C;\n",
              "      box-shadow: 0px 1px 3px 1px rgba(0, 0, 0, 0.15);\n",
              "      filter: drop-shadow(0px 1px 2px rgba(0, 0, 0, 0.3));\n",
              "      fill: #FFFFFF;\n",
              "    }\n",
              "  </style>\n",
              "\n",
              "      <script>\n",
              "        const buttonEl =\n",
              "          document.querySelector('#df-6a586050-9e37-433d-89fe-5bfaaf24c56e button.colab-df-convert');\n",
              "        buttonEl.style.display =\n",
              "          google.colab.kernel.accessAllowed ? 'block' : 'none';\n",
              "\n",
              "        async function convertToInteractive(key) {\n",
              "          const element = document.querySelector('#df-6a586050-9e37-433d-89fe-5bfaaf24c56e');\n",
              "          const dataTable =\n",
              "            await google.colab.kernel.invokeFunction('convertToInteractive',\n",
              "                                                     [key], {});\n",
              "          if (!dataTable) return;\n",
              "\n",
              "          const docLinkHtml = 'Like what you see? Visit the ' +\n",
              "            '<a target=\"_blank\" href=https://colab.research.google.com/notebooks/data_table.ipynb>data table notebook</a>'\n",
              "            + ' to learn more about interactive tables.';\n",
              "          element.innerHTML = '';\n",
              "          dataTable['output_type'] = 'display_data';\n",
              "          await google.colab.output.renderOutput(dataTable, element);\n",
              "          const docLink = document.createElement('div');\n",
              "          docLink.innerHTML = docLinkHtml;\n",
              "          element.appendChild(docLink);\n",
              "        }\n",
              "      </script>\n",
              "    </div>\n",
              "  </div>\n",
              "  "
            ]
          },
          "metadata": {},
          "execution_count": 7
        }
      ]
    },
    {
      "cell_type": "markdown",
      "source": [
        "# Getting comment count"
      ],
      "metadata": {
        "id": "nFldvJ1RLOdb"
      }
    },
    {
      "cell_type": "code",
      "source": [
        "# Counting of comments on each video to estimate mean amount of downloading comments\n",
        "l_comments_counts = []\n",
        "for i in tqdm(df_links['link']):\n",
        "  url = 'https://www.youtube.com/watch?v=' + i\n",
        "  response = requests.get(url)\n",
        "  html_content = response.content\n",
        "  pos = str(html_content).find('commentCount')\n",
        "  cnt = str(html_content)[pos:pos+50]\n",
        "  l_comments_counts.append([i,cnt])"
      ],
      "metadata": {
        "colab": {
          "base_uri": "https://localhost:8080/"
        },
        "id": "IX5TLLmDE9VD",
        "outputId": "fe37d519-e37f-433a-ba1c-3014d4c1cb90"
      },
      "execution_count": 191,
      "outputs": [
        {
          "output_type": "stream",
          "name": "stderr",
          "text": [
            "100%|██████████| 228/228 [01:53<00:00,  2.01it/s]\n"
          ]
        }
      ]
    },
    {
      "cell_type": "code",
      "source": [
        "df_links['count'] = pd.DataFrame(l_comments_counts)[1].str.split('\"', expand = True)[4].str[:-1].astype(float)"
      ],
      "metadata": {
        "id": "7tDG6eGrFoqm"
      },
      "execution_count": 225,
      "outputs": []
    },
    {
      "cell_type": "code",
      "source": [
        "df_links.groupby('author')['count'].agg(['mean','median','max']).round(0).astype(int)"
      ],
      "metadata": {
        "colab": {
          "base_uri": "https://localhost:8080/",
          "height": 363
        },
        "id": "5Y8ZUNfVDEqQ",
        "outputId": "bb9d1e27-8d29-4c3f-9a72-c48c85a48213"
      },
      "execution_count": 232,
      "outputs": [
        {
          "output_type": "execute_result",
          "data": {
            "text/plain": [
              "                    mean  median  max\n",
              "author                               \n",
              "Max_Katz               5       5    9\n",
              "NavalnyLiveChannel    16       3   95\n",
              "NavalnyRu             14      11   37\n",
              "Vladimir_Milov        18       3   92\n",
              "khodorkovskyru         4       4    8\n",
              "sobchak                5       3   25\n",
              "vdud                  55      38  394\n",
              "yashin_russia         10       9   37\n",
              "zhivoygvozd           21      17   74"
            ],
            "text/html": [
              "\n",
              "  <div id=\"df-4beb1234-9288-42ea-9490-b325895dae2e\">\n",
              "    <div class=\"colab-df-container\">\n",
              "      <div>\n",
              "<style scoped>\n",
              "    .dataframe tbody tr th:only-of-type {\n",
              "        vertical-align: middle;\n",
              "    }\n",
              "\n",
              "    .dataframe tbody tr th {\n",
              "        vertical-align: top;\n",
              "    }\n",
              "\n",
              "    .dataframe thead th {\n",
              "        text-align: right;\n",
              "    }\n",
              "</style>\n",
              "<table border=\"1\" class=\"dataframe\">\n",
              "  <thead>\n",
              "    <tr style=\"text-align: right;\">\n",
              "      <th></th>\n",
              "      <th>mean</th>\n",
              "      <th>median</th>\n",
              "      <th>max</th>\n",
              "    </tr>\n",
              "    <tr>\n",
              "      <th>author</th>\n",
              "      <th></th>\n",
              "      <th></th>\n",
              "      <th></th>\n",
              "    </tr>\n",
              "  </thead>\n",
              "  <tbody>\n",
              "    <tr>\n",
              "      <th>Max_Katz</th>\n",
              "      <td>5</td>\n",
              "      <td>5</td>\n",
              "      <td>9</td>\n",
              "    </tr>\n",
              "    <tr>\n",
              "      <th>NavalnyLiveChannel</th>\n",
              "      <td>16</td>\n",
              "      <td>3</td>\n",
              "      <td>95</td>\n",
              "    </tr>\n",
              "    <tr>\n",
              "      <th>NavalnyRu</th>\n",
              "      <td>14</td>\n",
              "      <td>11</td>\n",
              "      <td>37</td>\n",
              "    </tr>\n",
              "    <tr>\n",
              "      <th>Vladimir_Milov</th>\n",
              "      <td>18</td>\n",
              "      <td>3</td>\n",
              "      <td>92</td>\n",
              "    </tr>\n",
              "    <tr>\n",
              "      <th>khodorkovskyru</th>\n",
              "      <td>4</td>\n",
              "      <td>4</td>\n",
              "      <td>8</td>\n",
              "    </tr>\n",
              "    <tr>\n",
              "      <th>sobchak</th>\n",
              "      <td>5</td>\n",
              "      <td>3</td>\n",
              "      <td>25</td>\n",
              "    </tr>\n",
              "    <tr>\n",
              "      <th>vdud</th>\n",
              "      <td>55</td>\n",
              "      <td>38</td>\n",
              "      <td>394</td>\n",
              "    </tr>\n",
              "    <tr>\n",
              "      <th>yashin_russia</th>\n",
              "      <td>10</td>\n",
              "      <td>9</td>\n",
              "      <td>37</td>\n",
              "    </tr>\n",
              "    <tr>\n",
              "      <th>zhivoygvozd</th>\n",
              "      <td>21</td>\n",
              "      <td>17</td>\n",
              "      <td>74</td>\n",
              "    </tr>\n",
              "  </tbody>\n",
              "</table>\n",
              "</div>\n",
              "      <button class=\"colab-df-convert\" onclick=\"convertToInteractive('df-4beb1234-9288-42ea-9490-b325895dae2e')\"\n",
              "              title=\"Convert this dataframe to an interactive table.\"\n",
              "              style=\"display:none;\">\n",
              "        \n",
              "  <svg xmlns=\"http://www.w3.org/2000/svg\" height=\"24px\"viewBox=\"0 0 24 24\"\n",
              "       width=\"24px\">\n",
              "    <path d=\"M0 0h24v24H0V0z\" fill=\"none\"/>\n",
              "    <path d=\"M18.56 5.44l.94 2.06.94-2.06 2.06-.94-2.06-.94-.94-2.06-.94 2.06-2.06.94zm-11 1L8.5 8.5l.94-2.06 2.06-.94-2.06-.94L8.5 2.5l-.94 2.06-2.06.94zm10 10l.94 2.06.94-2.06 2.06-.94-2.06-.94-.94-2.06-.94 2.06-2.06.94z\"/><path d=\"M17.41 7.96l-1.37-1.37c-.4-.4-.92-.59-1.43-.59-.52 0-1.04.2-1.43.59L10.3 9.45l-7.72 7.72c-.78.78-.78 2.05 0 2.83L4 21.41c.39.39.9.59 1.41.59.51 0 1.02-.2 1.41-.59l7.78-7.78 2.81-2.81c.8-.78.8-2.07 0-2.86zM5.41 20L4 18.59l7.72-7.72 1.47 1.35L5.41 20z\"/>\n",
              "  </svg>\n",
              "      </button>\n",
              "      \n",
              "  <style>\n",
              "    .colab-df-container {\n",
              "      display:flex;\n",
              "      flex-wrap:wrap;\n",
              "      gap: 12px;\n",
              "    }\n",
              "\n",
              "    .colab-df-convert {\n",
              "      background-color: #E8F0FE;\n",
              "      border: none;\n",
              "      border-radius: 50%;\n",
              "      cursor: pointer;\n",
              "      display: none;\n",
              "      fill: #1967D2;\n",
              "      height: 32px;\n",
              "      padding: 0 0 0 0;\n",
              "      width: 32px;\n",
              "    }\n",
              "\n",
              "    .colab-df-convert:hover {\n",
              "      background-color: #E2EBFA;\n",
              "      box-shadow: 0px 1px 2px rgba(60, 64, 67, 0.3), 0px 1px 3px 1px rgba(60, 64, 67, 0.15);\n",
              "      fill: #174EA6;\n",
              "    }\n",
              "\n",
              "    [theme=dark] .colab-df-convert {\n",
              "      background-color: #3B4455;\n",
              "      fill: #D2E3FC;\n",
              "    }\n",
              "\n",
              "    [theme=dark] .colab-df-convert:hover {\n",
              "      background-color: #434B5C;\n",
              "      box-shadow: 0px 1px 3px 1px rgba(0, 0, 0, 0.15);\n",
              "      filter: drop-shadow(0px 1px 2px rgba(0, 0, 0, 0.3));\n",
              "      fill: #FFFFFF;\n",
              "    }\n",
              "  </style>\n",
              "\n",
              "      <script>\n",
              "        const buttonEl =\n",
              "          document.querySelector('#df-4beb1234-9288-42ea-9490-b325895dae2e button.colab-df-convert');\n",
              "        buttonEl.style.display =\n",
              "          google.colab.kernel.accessAllowed ? 'block' : 'none';\n",
              "\n",
              "        async function convertToInteractive(key) {\n",
              "          const element = document.querySelector('#df-4beb1234-9288-42ea-9490-b325895dae2e');\n",
              "          const dataTable =\n",
              "            await google.colab.kernel.invokeFunction('convertToInteractive',\n",
              "                                                     [key], {});\n",
              "          if (!dataTable) return;\n",
              "\n",
              "          const docLinkHtml = 'Like what you see? Visit the ' +\n",
              "            '<a target=\"_blank\" href=https://colab.research.google.com/notebooks/data_table.ipynb>data table notebook</a>'\n",
              "            + ' to learn more about interactive tables.';\n",
              "          element.innerHTML = '';\n",
              "          dataTable['output_type'] = 'display_data';\n",
              "          await google.colab.output.renderOutput(dataTable, element);\n",
              "          const docLink = document.createElement('div');\n",
              "          docLink.innerHTML = docLinkHtml;\n",
              "          element.appendChild(docLink);\n",
              "        }\n",
              "      </script>\n",
              "    </div>\n",
              "  </div>\n",
              "  "
            ]
          },
          "metadata": {},
          "execution_count": 232
        }
      ]
    },
    {
      "cell_type": "code",
      "source": [
        "df_links.groupby('author')['count'].agg(['mean','median','max']).round(0).astype(int).mean()"
      ],
      "metadata": {
        "colab": {
          "base_uri": "https://localhost:8080/"
        },
        "id": "wHymz-T6M4Mr",
        "outputId": "168d584e-79e5-41a0-b3f0-4901ee5bc793"
      },
      "execution_count": 233,
      "outputs": [
        {
          "output_type": "execute_result",
          "data": {
            "text/plain": [
              "mean      16.444444\n",
              "median    10.333333\n",
              "max       85.666667\n",
              "dtype: float64"
            ]
          },
          "metadata": {},
          "execution_count": 233
        }
      ]
    },
    {
      "cell_type": "markdown",
      "source": [
        "# Comments downloading"
      ],
      "metadata": {
        "id": "fyrZm_9EAgCu"
      }
    },
    {
      "cell_type": "code",
      "source": [
        "## Loading dataframe if it already exists\n",
        "# df_comments = pd.read_csv('/content/drive/MyDrive/Colab Notebooks/youtube_comments.csv')"
      ],
      "metadata": {
        "colab": {
          "base_uri": "https://localhost:8080/"
        },
        "id": "b9Qw3QZat-pF",
        "outputId": "a114c83c-d512-4567-f023-fa4b821ca937"
      },
      "execution_count": 28,
      "outputs": [
        {
          "output_type": "stream",
          "name": "stderr",
          "text": [
            "<ipython-input-28-8c2e70873632>:1: DtypeWarning: Columns (11) have mixed types. Specify dtype option on import or set low_memory=False.\n",
            "  df_comments = pd.read_csv('/content/drive/MyDrive/Colab Notebooks/youtube_comments.csv')\n"
          ]
        }
      ]
    },
    {
      "cell_type": "code",
      "execution_count": 17,
      "metadata": {
        "id": "-DDKJEltzFt4"
      },
      "outputs": [],
      "source": [
        "downloader = YoutubeCommentDownloader()"
      ]
    },
    {
      "cell_type": "code",
      "source": [
        "## Downloading comments\n",
        "# df_comments = pd.DataFrame()\n",
        "# for i in tqdm(lost_links): #df_links['link']\n",
        "#   comments = downloader.get_comments_from_url('https://www.youtube.com/watch?v=' + i, \n",
        "#                                               sort_by =  SORT_BY_POPULAR) #SORT_BY_POPULAR / SORT_BY_RECENT\n",
        "#   l_comments = []\n",
        "#   for comment in islice(comments, 10000):\n",
        "#       l_comments.append(comment)\n",
        "#   temp = pd.DataFrame(l_comments)\n",
        "#   temp['link'] = i\n",
        "#   df_comments = pd.concat([df_comments, temp])\n",
        "#   df_comments.to_csv('/content/drive/MyDrive/Colab Notebooks/youtube_comments_lost.csv', index=False)"
      ],
      "metadata": {
        "colab": {
          "base_uri": "https://localhost:8080/"
        },
        "id": "Xls8DDeXM-9r",
        "outputId": "414825bc-a95d-403a-f10f-73c8054589e1"
      },
      "execution_count": 18,
      "outputs": [
        {
          "output_type": "stream",
          "name": "stderr",
          "text": [
            "100%|██████████| 32/32 [1:11:03<00:00, 133.22s/it]\n"
          ]
        }
      ]
    },
    {
      "cell_type": "code",
      "source": [
        "df_comments.shape"
      ],
      "metadata": {
        "colab": {
          "base_uri": "https://localhost:8080/"
        },
        "id": "hz9PLKSCSrPp",
        "outputId": "6cfb5a33-6b35-439b-efe5-f5f76df6834c"
      },
      "execution_count": 29,
      "outputs": [
        {
          "output_type": "execute_result",
          "data": {
            "text/plain": [
              "(531854, 12)"
            ]
          },
          "metadata": {},
          "execution_count": 29
        }
      ]
    },
    {
      "cell_type": "code",
      "source": [
        "df_comments.columns"
      ],
      "metadata": {
        "colab": {
          "base_uri": "https://localhost:8080/"
        },
        "id": "W32YccMfGRMF",
        "outputId": "f5d3b01d-7808-4e10-cba4-1a40061f094d"
      },
      "execution_count": 32,
      "outputs": [
        {
          "output_type": "execute_result",
          "data": {
            "text/plain": [
              "Index(['cid', 'text', 'time', 'author', 'channel', 'votes', 'photo', 'heart',\n",
              "       'reply', 'time_parsed', 'link', 'paid'],\n",
              "      dtype='object')"
            ]
          },
          "metadata": {},
          "execution_count": 32
        }
      ]
    },
    {
      "cell_type": "code",
      "source": [
        "df_comments.head(3)"
      ],
      "metadata": {
        "colab": {
          "base_uri": "https://localhost:8080/",
          "height": 503
        },
        "id": "NaCGPLa9GfZ6",
        "outputId": "bc35e379-ce13-4842-b75e-8fab1ff3865e"
      },
      "execution_count": 38,
      "outputs": [
        {
          "output_type": "execute_result",
          "data": {
            "text/plain": [
              "                          cid  \\\n",
              "0  UgxcwIb_m7xdaZXM82B4AaABAg   \n",
              "1  UgwZKXnkXZbrwduAYE54AaABAg   \n",
              "2  Ugzad9aAcMoZ3cfho-h4AaABAg   \n",
              "\n",
              "                                                text          time  \\\n",
              "0  Вместо родитель номер один и родитель номер дв...  11 hours ago   \n",
              "1  После того, как Песков заявил, что двойников у...   8 hours ago   \n",
              "2  Самое страшное в двойниках, что оригинал может...   8 hours ago   \n",
              "\n",
              "            author                   channel votes  \\\n",
              "0  Pavel Degtyarev  UCRAF7PKsw5C7-f4TNrm35tA  1.4K   \n",
              "1  Ксения Астрейко  UCERLdhjjeJ4JxPHAqfKWrkA   868   \n",
              "2     TheStrang007  UCXskLwGJl9c-pFx9fFEjY9Q   380   \n",
              "\n",
              "                                               photo  heart  reply  \\\n",
              "0  https://yt3.ggpht.com/ytc/AGIKgqMEvBRjpMDmbWGR...  False  False   \n",
              "1  https://yt3.ggpht.com/ytc/AGIKgqOt-jBmPv2xj90K...  False  False   \n",
              "2  https://yt3.ggpht.com/ytc/AGIKgqMDTg5LF_ClrCNt...  False  False   \n",
              "\n",
              "    time_parsed         link paid  \n",
              "0  1.682519e+09  hyHpp9dVMQU  NaN  \n",
              "1  1.682530e+09  hyHpp9dVMQU  NaN  \n",
              "2  1.682530e+09  hyHpp9dVMQU  NaN  "
            ],
            "text/html": [
              "\n",
              "  <div id=\"df-7bb3d9b2-3082-4d9c-a2d5-8d971a8502b9\">\n",
              "    <div class=\"colab-df-container\">\n",
              "      <div>\n",
              "<style scoped>\n",
              "    .dataframe tbody tr th:only-of-type {\n",
              "        vertical-align: middle;\n",
              "    }\n",
              "\n",
              "    .dataframe tbody tr th {\n",
              "        vertical-align: top;\n",
              "    }\n",
              "\n",
              "    .dataframe thead th {\n",
              "        text-align: right;\n",
              "    }\n",
              "</style>\n",
              "<table border=\"1\" class=\"dataframe\">\n",
              "  <thead>\n",
              "    <tr style=\"text-align: right;\">\n",
              "      <th></th>\n",
              "      <th>cid</th>\n",
              "      <th>text</th>\n",
              "      <th>time</th>\n",
              "      <th>author</th>\n",
              "      <th>channel</th>\n",
              "      <th>votes</th>\n",
              "      <th>photo</th>\n",
              "      <th>heart</th>\n",
              "      <th>reply</th>\n",
              "      <th>time_parsed</th>\n",
              "      <th>link</th>\n",
              "      <th>paid</th>\n",
              "    </tr>\n",
              "  </thead>\n",
              "  <tbody>\n",
              "    <tr>\n",
              "      <th>0</th>\n",
              "      <td>UgxcwIb_m7xdaZXM82B4AaABAg</td>\n",
              "      <td>Вместо родитель номер один и родитель номер дв...</td>\n",
              "      <td>11 hours ago</td>\n",
              "      <td>Pavel Degtyarev</td>\n",
              "      <td>UCRAF7PKsw5C7-f4TNrm35tA</td>\n",
              "      <td>1.4K</td>\n",
              "      <td>https://yt3.ggpht.com/ytc/AGIKgqMEvBRjpMDmbWGR...</td>\n",
              "      <td>False</td>\n",
              "      <td>False</td>\n",
              "      <td>1.682519e+09</td>\n",
              "      <td>hyHpp9dVMQU</td>\n",
              "      <td>NaN</td>\n",
              "    </tr>\n",
              "    <tr>\n",
              "      <th>1</th>\n",
              "      <td>UgwZKXnkXZbrwduAYE54AaABAg</td>\n",
              "      <td>После того, как Песков заявил, что двойников у...</td>\n",
              "      <td>8 hours ago</td>\n",
              "      <td>Ксения Астрейко</td>\n",
              "      <td>UCERLdhjjeJ4JxPHAqfKWrkA</td>\n",
              "      <td>868</td>\n",
              "      <td>https://yt3.ggpht.com/ytc/AGIKgqOt-jBmPv2xj90K...</td>\n",
              "      <td>False</td>\n",
              "      <td>False</td>\n",
              "      <td>1.682530e+09</td>\n",
              "      <td>hyHpp9dVMQU</td>\n",
              "      <td>NaN</td>\n",
              "    </tr>\n",
              "    <tr>\n",
              "      <th>2</th>\n",
              "      <td>Ugzad9aAcMoZ3cfho-h4AaABAg</td>\n",
              "      <td>Самое страшное в двойниках, что оригинал может...</td>\n",
              "      <td>8 hours ago</td>\n",
              "      <td>TheStrang007</td>\n",
              "      <td>UCXskLwGJl9c-pFx9fFEjY9Q</td>\n",
              "      <td>380</td>\n",
              "      <td>https://yt3.ggpht.com/ytc/AGIKgqMDTg5LF_ClrCNt...</td>\n",
              "      <td>False</td>\n",
              "      <td>False</td>\n",
              "      <td>1.682530e+09</td>\n",
              "      <td>hyHpp9dVMQU</td>\n",
              "      <td>NaN</td>\n",
              "    </tr>\n",
              "  </tbody>\n",
              "</table>\n",
              "</div>\n",
              "      <button class=\"colab-df-convert\" onclick=\"convertToInteractive('df-7bb3d9b2-3082-4d9c-a2d5-8d971a8502b9')\"\n",
              "              title=\"Convert this dataframe to an interactive table.\"\n",
              "              style=\"display:none;\">\n",
              "        \n",
              "  <svg xmlns=\"http://www.w3.org/2000/svg\" height=\"24px\"viewBox=\"0 0 24 24\"\n",
              "       width=\"24px\">\n",
              "    <path d=\"M0 0h24v24H0V0z\" fill=\"none\"/>\n",
              "    <path d=\"M18.56 5.44l.94 2.06.94-2.06 2.06-.94-2.06-.94-.94-2.06-.94 2.06-2.06.94zm-11 1L8.5 8.5l.94-2.06 2.06-.94-2.06-.94L8.5 2.5l-.94 2.06-2.06.94zm10 10l.94 2.06.94-2.06 2.06-.94-2.06-.94-.94-2.06-.94 2.06-2.06.94z\"/><path d=\"M17.41 7.96l-1.37-1.37c-.4-.4-.92-.59-1.43-.59-.52 0-1.04.2-1.43.59L10.3 9.45l-7.72 7.72c-.78.78-.78 2.05 0 2.83L4 21.41c.39.39.9.59 1.41.59.51 0 1.02-.2 1.41-.59l7.78-7.78 2.81-2.81c.8-.78.8-2.07 0-2.86zM5.41 20L4 18.59l7.72-7.72 1.47 1.35L5.41 20z\"/>\n",
              "  </svg>\n",
              "      </button>\n",
              "      \n",
              "  <style>\n",
              "    .colab-df-container {\n",
              "      display:flex;\n",
              "      flex-wrap:wrap;\n",
              "      gap: 12px;\n",
              "    }\n",
              "\n",
              "    .colab-df-convert {\n",
              "      background-color: #E8F0FE;\n",
              "      border: none;\n",
              "      border-radius: 50%;\n",
              "      cursor: pointer;\n",
              "      display: none;\n",
              "      fill: #1967D2;\n",
              "      height: 32px;\n",
              "      padding: 0 0 0 0;\n",
              "      width: 32px;\n",
              "    }\n",
              "\n",
              "    .colab-df-convert:hover {\n",
              "      background-color: #E2EBFA;\n",
              "      box-shadow: 0px 1px 2px rgba(60, 64, 67, 0.3), 0px 1px 3px 1px rgba(60, 64, 67, 0.15);\n",
              "      fill: #174EA6;\n",
              "    }\n",
              "\n",
              "    [theme=dark] .colab-df-convert {\n",
              "      background-color: #3B4455;\n",
              "      fill: #D2E3FC;\n",
              "    }\n",
              "\n",
              "    [theme=dark] .colab-df-convert:hover {\n",
              "      background-color: #434B5C;\n",
              "      box-shadow: 0px 1px 3px 1px rgba(0, 0, 0, 0.15);\n",
              "      filter: drop-shadow(0px 1px 2px rgba(0, 0, 0, 0.3));\n",
              "      fill: #FFFFFF;\n",
              "    }\n",
              "  </style>\n",
              "\n",
              "      <script>\n",
              "        const buttonEl =\n",
              "          document.querySelector('#df-7bb3d9b2-3082-4d9c-a2d5-8d971a8502b9 button.colab-df-convert');\n",
              "        buttonEl.style.display =\n",
              "          google.colab.kernel.accessAllowed ? 'block' : 'none';\n",
              "\n",
              "        async function convertToInteractive(key) {\n",
              "          const element = document.querySelector('#df-7bb3d9b2-3082-4d9c-a2d5-8d971a8502b9');\n",
              "          const dataTable =\n",
              "            await google.colab.kernel.invokeFunction('convertToInteractive',\n",
              "                                                     [key], {});\n",
              "          if (!dataTable) return;\n",
              "\n",
              "          const docLinkHtml = 'Like what you see? Visit the ' +\n",
              "            '<a target=\"_blank\" href=https://colab.research.google.com/notebooks/data_table.ipynb>data table notebook</a>'\n",
              "            + ' to learn more about interactive tables.';\n",
              "          element.innerHTML = '';\n",
              "          dataTable['output_type'] = 'display_data';\n",
              "          await google.colab.output.renderOutput(dataTable, element);\n",
              "          const docLink = document.createElement('div');\n",
              "          docLink.innerHTML = docLinkHtml;\n",
              "          element.appendChild(docLink);\n",
              "        }\n",
              "      </script>\n",
              "    </div>\n",
              "  </div>\n",
              "  "
            ]
          },
          "metadata": {},
          "execution_count": 38
        }
      ]
    },
    {
      "cell_type": "markdown",
      "source": [
        "# Analysis"
      ],
      "metadata": {
        "id": "Gym9JN7get56"
      }
    },
    {
      "cell_type": "markdown",
      "source": [
        "## Baseline calc"
      ],
      "metadata": {
        "id": "wBvxm3rhzEXq"
      }
    },
    {
      "cell_type": "code",
      "source": [
        "# DataFrame for exercises  \n",
        "df_baseline = df_comments.drop('author',axis =1).merge(df_links, how = 'left', on = 'link')\\\n",
        ".drop_duplicates(['author','channel','link'])"
      ],
      "metadata": {
        "id": "ybXugNJyza0I"
      },
      "execution_count": 163,
      "outputs": []
    },
    {
      "cell_type": "code",
      "source": [
        "# Calculating of baseline (intersections between videos of same author)\n",
        "l_baselines = []\n",
        "for i in tqdm(df_baseline['author'].unique()):\n",
        "  author_links = df_baseline[df_baseline['author'] == i]['link'].unique()\n",
        "  number_of_videos = len(df_baseline[df_baseline['author'] == i]['link'].unique())\n",
        "  for j in range(number_of_videos-1):\n",
        "    for k in range(j+1, number_of_videos):\n",
        "        l_baselines.append([i, author_links[j], author_links[k],\n",
        "                            df_baseline[df_baseline['link'] == author_links[j]]['channel'].\\\n",
        "                            isin(df_baseline[df_baseline['link'] == author_links[k]]['channel']).mean()])\n"
      ],
      "metadata": {
        "colab": {
          "base_uri": "https://localhost:8080/"
        },
        "id": "m73jCFQnzHCv",
        "outputId": "40829d96-a981-46a2-9c41-b8bdc2bacb4e"
      },
      "execution_count": 178,
      "outputs": [
        {
          "output_type": "stream",
          "name": "stderr",
          "text": [
            "100%|██████████| 9/9 [02:31<00:00, 16.85s/it]\n"
          ]
        }
      ]
    },
    {
      "cell_type": "code",
      "source": [
        "l_baselines = pd.DataFrame(l_baselines)\n",
        "l_baselines.columns = ['author','v1','v2','share']\n",
        "\n",
        "l_baselines.groupby('author')['share'].mean().plot.barh(title = 'Intersection')"
      ],
      "metadata": {
        "colab": {
          "base_uri": "https://localhost:8080/",
          "height": 469
        },
        "id": "1n95q4QX2-fa",
        "outputId": "911458c5-6ef0-4e16-db44-516d7fa60b56"
      },
      "execution_count": 189,
      "outputs": [
        {
          "output_type": "execute_result",
          "data": {
            "text/plain": [
              "<Axes: title={'center': 'Intersection'}, ylabel='author'>"
            ]
          },
          "metadata": {},
          "execution_count": 189
        },
        {
          "output_type": "display_data",
          "data": {
            "text/plain": [
              "<Figure size 640x480 with 1 Axes>"
            ],
            "image/png": "[encoded data removed]"
          },
          "metadata": {}
        }
      ]
    },
    {
      "cell_type": "markdown",
      "source": [
        "## Main calc"
      ],
      "metadata": {
        "id": "SES3aAnVzHig"
      }
    },
    {
      "cell_type": "code",
      "source": [
        "# DataFrame for exercises  \n",
        "df_temp = df_comments.drop('author',axis =1).merge(df_links, how = 'left', on = 'link')"
      ],
      "metadata": {
        "id": "M9iNPPaMGxg-"
      },
      "execution_count": 39,
      "outputs": []
    },
    {
      "cell_type": "code",
      "source": [
        "df_temp.info()"
      ],
      "metadata": {
        "colab": {
          "base_uri": "https://localhost:8080/"
        },
        "id": "4ofk96xeH91e",
        "outputId": "49d4057c-6ecc-4d44-e95f-03db0650bdbc"
      },
      "execution_count": 40,
      "outputs": [
        {
          "output_type": "stream",
          "name": "stdout",
          "text": [
            "<class 'pandas.core.frame.DataFrame'>\n",
            "Int64Index: 531854 entries, 0 to 531853\n",
            "Data columns (total 12 columns):\n",
            " #   Column       Non-Null Count   Dtype  \n",
            "---  ------       --------------   -----  \n",
            " 0   cid          531854 non-null  object \n",
            " 1   text         531854 non-null  object \n",
            " 2   time         531854 non-null  object \n",
            " 3   channel      531853 non-null  object \n",
            " 4   votes        531854 non-null  object \n",
            " 5   photo        531854 non-null  object \n",
            " 6   heart        531854 non-null  bool   \n",
            " 7   reply        531854 non-null  bool   \n",
            " 8   time_parsed  531854 non-null  float64\n",
            " 9   link         531854 non-null  object \n",
            " 10  paid         138 non-null     object \n",
            " 11  author       531854 non-null  object \n",
            "dtypes: bool(2), float64(1), object(9)\n",
            "memory usage: 45.6+ MB\n"
          ]
        }
      ]
    },
    {
      "cell_type": "code",
      "source": [
        "df_temp.nunique()"
      ],
      "metadata": {
        "colab": {
          "base_uri": "https://localhost:8080/"
        },
        "id": "pq9lASuxIZs1",
        "outputId": "28d51a56-147d-4d47-caa1-edb93f4ab0f1"
      },
      "execution_count": 41,
      "outputs": [
        {
          "output_type": "execute_result",
          "data": {
            "text/plain": [
              "cid            531854\n",
              "text           508626\n",
              "time              190\n",
              "channel        221704\n",
              "votes            1079\n",
              "photo          185136\n",
              "heart               2\n",
              "reply               2\n",
              "time_parsed    531854\n",
              "link              229\n",
              "paid               61\n",
              "author              9\n",
              "dtype: int64"
            ]
          },
          "metadata": {},
          "execution_count": 41
        }
      ]
    },
    {
      "cell_type": "code",
      "source": [
        "# Dropping duplicates of comments to specific author from the same channel\n",
        "df_temp = df_temp.drop_duplicates(['author','channel'])\n",
        "# Discovering author's minimum number of video\n",
        "df_temp.drop_duplicates(['author','link']).groupby('author')['link'].count().min()"
      ],
      "metadata": {
        "id": "DNZZgJMLICoX"
      },
      "execution_count": 44,
      "outputs": []
    },
    {
      "cell_type": "code",
      "source": [
        "top_links = df_temp.drop_duplicates(['author','link']).groupby('author').head(21)['link']\n",
        "df_temp = df_temp[df_temp['link'].isin(top_links)]\n",
        "df_temp.shape"
      ],
      "metadata": {
        "colab": {
          "base_uri": "https://localhost:8080/"
        },
        "id": "ikaqWpw3P6f0",
        "outputId": "fcf8eac8-9ce2-42f9-888e-ab9eb8564060"
      },
      "execution_count": 79,
      "outputs": [
        {
          "output_type": "execute_result",
          "data": {
            "text/plain": [
              "(220220, 12)"
            ]
          },
          "metadata": {},
          "execution_count": 79
        }
      ]
    },
    {
      "cell_type": "code",
      "source": [
        "l_union = []\n",
        "for i in df_temp['author'].unique():\n",
        "  for j in df_temp['author'].unique():\n",
        "    if i != j:\n",
        "      l_union.append([i, j, df_temp[(df_temp['author'] == i) & (df_temp['link'].isin(top_links))]['channel'].shape[0],\n",
        "                    df_temp[df_temp['author'] == i]['channel'].isin(df_temp[df_temp['author'] == j]['channel']).sum()])\n",
        "l_union = pd.DataFrame(l_union)\n",
        "l_union.columns = ['in','out','total','out_count']\n",
        "l_union['share'] = l_union['out_count']/l_union['total']"
      ],
      "metadata": {
        "id": "XsYcYvuAIpNP"
      },
      "execution_count": 80,
      "outputs": []
    },
    {
      "cell_type": "code",
      "source": [
        "l_union.head(7)"
      ],
      "metadata": {
        "colab": {
          "base_uri": "https://localhost:8080/",
          "height": 269
        },
        "id": "ijjIE8uVMfKO",
        "outputId": "21f356ea-8d02-468f-8f18-adbcdaafce0a"
      },
      "execution_count": 131,
      "outputs": [
        {
          "output_type": "execute_result",
          "data": {
            "text/plain": [
              "         in                 out  total  out_count     share            name\n",
              "0  Max_Katz      khodorkovskyru  24233       1707  0.070441    Ходорковский\n",
              "1  Max_Katz             sobchak  24233        780  0.032188          Собчак\n",
              "2  Max_Katz           NavalnyRu  24233       1428  0.058928       Навальный\n",
              "3  Max_Katz  NavalnyLiveChannel  24233       1667  0.068790  Навальный Лайв\n",
              "4  Max_Katz         zhivoygvozd  24233        353  0.014567      Венедиктов\n",
              "5  Max_Katz      Vladimir_Milov  24233       1055  0.043536           Милов\n",
              "6  Max_Katz       yashin_russia  24233       1564  0.064540            Яшин"
            ],
            "text/html": [
              "\n",
              "  <div id=\"df-ee182919-81ea-4a05-81e7-f5422340a874\">\n",
              "    <div class=\"colab-df-container\">\n",
              "      <div>\n",
              "<style scoped>\n",
              "    .dataframe tbody tr th:only-of-type {\n",
              "        vertical-align: middle;\n",
              "    }\n",
              "\n",
              "    .dataframe tbody tr th {\n",
              "        vertical-align: top;\n",
              "    }\n",
              "\n",
              "    .dataframe thead th {\n",
              "        text-align: right;\n",
              "    }\n",
              "</style>\n",
              "<table border=\"1\" class=\"dataframe\">\n",
              "  <thead>\n",
              "    <tr style=\"text-align: right;\">\n",
              "      <th></th>\n",
              "      <th>in</th>\n",
              "      <th>out</th>\n",
              "      <th>total</th>\n",
              "      <th>out_count</th>\n",
              "      <th>share</th>\n",
              "      <th>name</th>\n",
              "    </tr>\n",
              "  </thead>\n",
              "  <tbody>\n",
              "    <tr>\n",
              "      <th>0</th>\n",
              "      <td>Max_Katz</td>\n",
              "      <td>khodorkovskyru</td>\n",
              "      <td>24233</td>\n",
              "      <td>1707</td>\n",
              "      <td>0.070441</td>\n",
              "      <td>Ходорковский</td>\n",
              "    </tr>\n",
              "    <tr>\n",
              "      <th>1</th>\n",
              "      <td>Max_Katz</td>\n",
              "      <td>sobchak</td>\n",
              "      <td>24233</td>\n",
              "      <td>780</td>\n",
              "      <td>0.032188</td>\n",
              "      <td>Собчак</td>\n",
              "    </tr>\n",
              "    <tr>\n",
              "      <th>2</th>\n",
              "      <td>Max_Katz</td>\n",
              "      <td>NavalnyRu</td>\n",
              "      <td>24233</td>\n",
              "      <td>1428</td>\n",
              "      <td>0.058928</td>\n",
              "      <td>Навальный</td>\n",
              "    </tr>\n",
              "    <tr>\n",
              "      <th>3</th>\n",
              "      <td>Max_Katz</td>\n",
              "      <td>NavalnyLiveChannel</td>\n",
              "      <td>24233</td>\n",
              "      <td>1667</td>\n",
              "      <td>0.068790</td>\n",
              "      <td>Навальный Лайв</td>\n",
              "    </tr>\n",
              "    <tr>\n",
              "      <th>4</th>\n",
              "      <td>Max_Katz</td>\n",
              "      <td>zhivoygvozd</td>\n",
              "      <td>24233</td>\n",
              "      <td>353</td>\n",
              "      <td>0.014567</td>\n",
              "      <td>Венедиктов</td>\n",
              "    </tr>\n",
              "    <tr>\n",
              "      <th>5</th>\n",
              "      <td>Max_Katz</td>\n",
              "      <td>Vladimir_Milov</td>\n",
              "      <td>24233</td>\n",
              "      <td>1055</td>\n",
              "      <td>0.043536</td>\n",
              "      <td>Милов</td>\n",
              "    </tr>\n",
              "    <tr>\n",
              "      <th>6</th>\n",
              "      <td>Max_Katz</td>\n",
              "      <td>yashin_russia</td>\n",
              "      <td>24233</td>\n",
              "      <td>1564</td>\n",
              "      <td>0.064540</td>\n",
              "      <td>Яшин</td>\n",
              "    </tr>\n",
              "  </tbody>\n",
              "</table>\n",
              "</div>\n",
              "      <button class=\"colab-df-convert\" onclick=\"convertToInteractive('df-ee182919-81ea-4a05-81e7-f5422340a874')\"\n",
              "              title=\"Convert this dataframe to an interactive table.\"\n",
              "              style=\"display:none;\">\n",
              "        \n",
              "  <svg xmlns=\"http://www.w3.org/2000/svg\" height=\"24px\"viewBox=\"0 0 24 24\"\n",
              "       width=\"24px\">\n",
              "    <path d=\"M0 0h24v24H0V0z\" fill=\"none\"/>\n",
              "    <path d=\"M18.56 5.44l.94 2.06.94-2.06 2.06-.94-2.06-.94-.94-2.06-.94 2.06-2.06.94zm-11 1L8.5 8.5l.94-2.06 2.06-.94-2.06-.94L8.5 2.5l-.94 2.06-2.06.94zm10 10l.94 2.06.94-2.06 2.06-.94-2.06-.94-.94-2.06-.94 2.06-2.06.94z\"/><path d=\"M17.41 7.96l-1.37-1.37c-.4-.4-.92-.59-1.43-.59-.52 0-1.04.2-1.43.59L10.3 9.45l-7.72 7.72c-.78.78-.78 2.05 0 2.83L4 21.41c.39.39.9.59 1.41.59.51 0 1.02-.2 1.41-.59l7.78-7.78 2.81-2.81c.8-.78.8-2.07 0-2.86zM5.41 20L4 18.59l7.72-7.72 1.47 1.35L5.41 20z\"/>\n",
              "  </svg>\n",
              "      </button>\n",
              "      \n",
              "  <style>\n",
              "    .colab-df-container {\n",
              "      display:flex;\n",
              "      flex-wrap:wrap;\n",
              "      gap: 12px;\n",
              "    }\n",
              "\n",
              "    .colab-df-convert {\n",
              "      background-color: #E8F0FE;\n",
              "      border: none;\n",
              "      border-radius: 50%;\n",
              "      cursor: pointer;\n",
              "      display: none;\n",
              "      fill: #1967D2;\n",
              "      height: 32px;\n",
              "      padding: 0 0 0 0;\n",
              "      width: 32px;\n",
              "    }\n",
              "\n",
              "    .colab-df-convert:hover {\n",
              "      background-color: #E2EBFA;\n",
              "      box-shadow: 0px 1px 2px rgba(60, 64, 67, 0.3), 0px 1px 3px 1px rgba(60, 64, 67, 0.15);\n",
              "      fill: #174EA6;\n",
              "    }\n",
              "\n",
              "    [theme=dark] .colab-df-convert {\n",
              "      background-color: #3B4455;\n",
              "      fill: #D2E3FC;\n",
              "    }\n",
              "\n",
              "    [theme=dark] .colab-df-convert:hover {\n",
              "      background-color: #434B5C;\n",
              "      box-shadow: 0px 1px 3px 1px rgba(0, 0, 0, 0.15);\n",
              "      filter: drop-shadow(0px 1px 2px rgba(0, 0, 0, 0.3));\n",
              "      fill: #FFFFFF;\n",
              "    }\n",
              "  </style>\n",
              "\n",
              "      <script>\n",
              "        const buttonEl =\n",
              "          document.querySelector('#df-ee182919-81ea-4a05-81e7-f5422340a874 button.colab-df-convert');\n",
              "        buttonEl.style.display =\n",
              "          google.colab.kernel.accessAllowed ? 'block' : 'none';\n",
              "\n",
              "        async function convertToInteractive(key) {\n",
              "          const element = document.querySelector('#df-ee182919-81ea-4a05-81e7-f5422340a874');\n",
              "          const dataTable =\n",
              "            await google.colab.kernel.invokeFunction('convertToInteractive',\n",
              "                                                     [key], {});\n",
              "          if (!dataTable) return;\n",
              "\n",
              "          const docLinkHtml = 'Like what you see? Visit the ' +\n",
              "            '<a target=\"_blank\" href=https://colab.research.google.com/notebooks/data_table.ipynb>data table notebook</a>'\n",
              "            + ' to learn more about interactive tables.';\n",
              "          element.innerHTML = '';\n",
              "          dataTable['output_type'] = 'display_data';\n",
              "          await google.colab.output.renderOutput(dataTable, element);\n",
              "          const docLink = document.createElement('div');\n",
              "          docLink.innerHTML = docLinkHtml;\n",
              "          element.appendChild(docLink);\n",
              "        }\n",
              "      </script>\n",
              "    </div>\n",
              "  </div>\n",
              "  "
            ]
          },
          "metadata": {},
          "execution_count": 131
        }
      ]
    },
    {
      "cell_type": "code",
      "source": [
        "# Russian names\n",
        "d_authors = {'Max_Katz':\"Katz\",\n",
        "           'khodorkovskyru':\"Khodorkovsky\",\n",
        "           'sobchak':\"Sobchak\",\n",
        "           'NavalnyRu':\"Navalny\",\n",
        "           'NavalnyLiveChannel':\"Navalny Live\",\n",
        "           'zhivoygvozd':\"Venedictov\",\n",
        "           'Vladimir_Milov':\"Milov\",\n",
        "           'yashin_russia':\"Yashin\",\n",
        "           'vdud':'Dud'}"
      ],
      "metadata": {
        "id": "rgWVLRkdR5OD"
      },
      "execution_count": 156,
      "outputs": []
    },
    {
      "cell_type": "code",
      "source": [
        "l_union['name'] = l_union['out'].map(d_authors)"
      ],
      "metadata": {
        "id": "wfP-0BneSRyw"
      },
      "execution_count": 157,
      "outputs": []
    },
    {
      "cell_type": "code",
      "source": [
        "The intersection of commentators of a specific YouTube channel with other channels"
      ],
      "metadata": {
        "id": "c5q-7JuNge86"
      },
      "execution_count": null,
      "outputs": []
    },
    {
      "cell_type": "markdown",
      "source": [
        "## Horisontal bar"
      ],
      "metadata": {
        "id": "6m2pZ3C7hlfp"
      }
    },
    {
      "cell_type": "code",
      "source": [
        "import matplotlib.pyplot as plt\n",
        "\n",
        "# Define data\n",
        "y = l_union[l_union['in'] == 'Max_Katz']['name']\n",
        "x = l_union[l_union['in'] == 'Max_Katz']['share']*100\n",
        "\n",
        "# Create horizontal bar histogram\n",
        "plt.barh(y, x, color='green', height=0.5)\n",
        "\n",
        "\n",
        "# Customize x-axis\n",
        "fmt = '%.0f%%' # Format y-axis as percentage with no decimal places\n",
        "xticks = mtick.FormatStrFormatter(fmt)\n",
        "plt.gca().xaxis.set_major_formatter(xticks)\n",
        "\n",
        "# Customize parameters\n",
        "plt.title('The intersection of Katz channel commentators with some other channels (last 21 videos)')\n",
        "plt.xlabel('Intersection')\n",
        "# plt.xlim(0, 10)\n",
        "plt.grid(True)\n",
        "\n",
        "# Show plot\n",
        "plt.show()\n"
      ],
      "metadata": {
        "colab": {
          "base_uri": "https://localhost:8080/",
          "height": 472
        },
        "id": "pme7DPJgUmlr",
        "outputId": "31dd334b-dd4d-4c42-bc11-d5265a7cdf70"
      },
      "execution_count": 160,
      "outputs": [
        {
          "output_type": "display_data",
          "data": {
            "text/plain": [
              "<Figure size 640x480 with 1 Axes>"
            ],
            "image/png": "[encoded data removed]"
          },
          "metadata": {}
        }
      ]
    },
    {
      "cell_type": "markdown",
      "source": [
        "## Venn Diagram"
      ],
      "metadata": {
        "id": "T_lhA0XxhgKo"
      }
    },
    {
      "cell_type": "code",
      "source": [
        "from matplotlib_venn import venn3\n",
        "top_3_authors = ['Max_Katz','vdud','NavalnyLiveChannel']\n",
        "# Define sets\n",
        "set0 = set(df_temp[df_temp['author'] == top_3_authors[0]]['channel'])\n",
        "set1 = set(df_temp[df_temp['author'] == top_3_authors[1]]['channel'])\n",
        "set2 = set(df_temp[df_temp['author'] == top_3_authors[2]]['channel'])\n",
        "\n",
        "# Draw Venn diagram\n",
        "venn3([set0, set1, set2], set_labels=(top_3_authors))\n",
        "\n",
        "# Show plot\n",
        "plt.show()"
      ],
      "metadata": {
        "colab": {
          "base_uri": "https://localhost:8080/",
          "height": 406
        },
        "id": "6CXIp_D5hJt0",
        "outputId": "532c2994-6eb5-49ff-bc90-09e6a93ee7d9"
      },
      "execution_count": 155,
      "outputs": [
        {
          "output_type": "display_data",
          "data": {
            "text/plain": [
              "<Figure size 640x480 with 1 Axes>"
            ],
            "image/png": "[encoded data removed]"
          },
          "metadata": {}
        }
      ]
    }
  ]
}